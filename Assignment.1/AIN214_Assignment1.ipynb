{
 "cells": [
  {
   "cell_type": "markdown",
   "metadata": {
    "id": "-JsD4n549KSW"
   },
   "source": [
    "# **AIN 214 - PA1 - FALL 2024**"
   ]
  },
  {
   "cell_type": "markdown",
   "metadata": {
    "id": "jeu4gamv8uxb"
   },
   "source": [
    "**Student Number** : 2230765034\n",
    "\n",
    "**Name Surname**   : Şeyma Doğan"
   ]
  },
  {
   "cell_type": "markdown",
   "metadata": {
    "id": "so7UTKwA8ULy"
   },
   "source": [
    "\n",
    "BELOW MD CELLS CONTAIN THE QUESTIONS YOU ARE ASKED TO IMPLEMENT WITHIN THE CONTEXT OF THIS HW. PLEASE FILL IN THE CELLS FOR THE ANSWERS RIGHT BELOW THE MD CELL OF THE QUESTION. YOU CAN ADD AS MANY CELLS AS YOU WANT, BE IT CODE OR MD, SO LONG AS YOU PROVIDE AN UNDERSTANDABLE AND TRACBLE REPORTING. PLEASE ADD COMMENTS ON YOUR CODES. ALSO, FILL IN MD CELLS WHERE YOU ARE ASKED YO COMMENT ON YOUR RESULTS OR EPXLAIN YOUR REASONING. ALSO, PLEASE DO NO HESITATE TO USE THEM FOR YOUR OWN REPORTING PURPOSES. PLEASE KEEP IN MIND THAT, REPORTING IS A KEY STEP IN DATA SCIENCE.\n",
    "\n",
    "**Deadline: 18.10.2023 (23:59:59)**\n",
    "\n",
    "**Submission:** Submit your Jupyter Notebooks via https://submit.cs.hacettepe.edu.tr/"
   ]
  },
  {
   "cell_type": "markdown",
   "metadata": {
    "id": "l9crUPV39bKP"
   },
   "source": [
    "# **Necessary Imports**"
   ]
  },
  {
   "cell_type": "code",
   "execution_count": 1,
   "metadata": {
    "id": "bDF8rpnv9kjd",
    "ExecuteTime": {
     "end_time": "2024-11-07T18:20:52.926826900Z",
     "start_time": "2024-11-07T18:20:52.027193Z"
    }
   },
   "outputs": [],
   "source": [
    "# Import required libraries\n",
    "import pandas as pd\n",
    "import numpy as np\n",
    "import sqlite3\n"
   ]
  },
  {
   "cell_type": "markdown",
   "metadata": {
    "id": "YzjmuhYk90CY"
   },
   "source": [
    "# **Notes:**\n",
    "\n",
    "* Use pandas dataframe (df) to load the data.\n",
    "\n",
    "* Use numpy or pandas operations for the requested tasks unless otherwise specified.\n",
    "\n",
    "* Use of naive for loops is not considered valid.\n",
    "\n",
    "* For the db operations, use sqlite3 library in Python"
   ]
  },
  {
   "cell_type": "markdown",
   "metadata": {
    "id": "ErBKcN6KBvW8"
   },
   "source": [
    "# **PART- 1**\n",
    "\n",
    "**Set of Questions on World Happiness Report Dataset (40 Pts)**\n",
    "\n",
    "**Dataset Path: \"Data/WorldHappinessReport.csv\"**"
   ]
  },
  {
   "cell_type": "markdown",
   "metadata": {
    "id": "GWggnrTxCQJD"
   },
   "source": [
    "# Q1. Basic Data Exploration **(10 Pts)**\n",
    "\n",
    "1. Load the data into Pandas DataFrame and print the column names. **(1 pts)**\n",
    "2. Display the first and last 10 rows of the dataset. **(1 pts)**\n",
    "3. Display random 10 rows. **(1 pts)**\n",
    "4. Display random 10 rows with a seed, ie, it outputs the same random rows everytime it is run. **(1 pts)**\n",
    "5. Display every 10th row. **(1 pts)**\n",
    "6. Get the summary stats of the dataset regarding each column. **(2 pts)**\n",
    "7. Identify and count the number of missing values in each column. **(3 pts)**"
   ]
  },
  {
   "cell_type": "code",
   "execution_count": 2,
   "metadata": {
    "id": "_NzJ6GYkD1aY",
    "ExecuteTime": {
     "end_time": "2024-11-07T18:21:16.578661Z",
     "start_time": "2024-11-07T18:21:16.551225800Z"
    }
   },
   "outputs": [
    {
     "name": "stdout",
     "output_type": "stream",
     "text": [
      "Index(['Overall rank', 'Country or region', 'Score', 'GDP per capita',\n",
      "       'Social support', 'Healthy life expectancy',\n",
      "       'Freedom to make life choices', 'Generosity',\n",
      "       'Perceptions of corruption'],\n",
      "      dtype='object')\n"
     ]
    }
   ],
   "source": [
    "#1 Load the data into Pandas DataFrame and print the column names\n",
    "world_hpy = pd.read_csv('Data/WorldHappinessReport.csv')\n",
    "col_wh = world_hpy.columns\n",
    "print(col_wh)"
   ]
  },
  {
   "cell_type": "code",
   "execution_count": 6,
   "metadata": {
    "id": "Z-m2CigRD26Z",
    "ExecuteTime": {
     "end_time": "2024-10-17T00:09:06.225314800Z",
     "start_time": "2024-10-17T00:09:06.200374400Z"
    }
   },
   "outputs": [
    {
     "data": {
      "text/plain": "   Overall rank Country or region  Score  GDP per capita  Social support  \\\n0             1           Finland  7.632           1.305           1.592   \n1             2            Norway  7.594           1.456           1.582   \n2             3           Denmark  7.555           1.351           1.590   \n3             4           Iceland  7.495           1.343           1.644   \n4             5       Switzerland  7.487           1.420           1.549   \n5             6       Netherlands  7.441           1.361           1.488   \n6             7            Canada  7.328           1.330           1.532   \n7             8       New Zealand  7.324           1.268           1.601   \n8             9            Sweden  7.314           1.355           1.501   \n9            10         Australia  7.272           1.340           1.573   \n\n   Healthy life expectancy  Freedom to make life choices  Generosity  \\\n0                    0.874                         0.681       0.202   \n1                    0.861                         0.686       0.286   \n2                    0.868                         0.683       0.284   \n3                    0.914                         0.677       0.353   \n4                    0.927                         0.660       0.256   \n5                    0.878                         0.638       0.333   \n6                    0.896                         0.653       0.321   \n7                    0.876                         0.669       0.365   \n8                    0.913                         0.659       0.285   \n9                    0.910                         0.647       0.361   \n\n   Perceptions of corruption  \n0                      0.393  \n1                      0.340  \n2                      0.408  \n3                      0.138  \n4                      0.357  \n5                      0.295  \n6                      0.291  \n7                      0.389  \n8                      0.383  \n9                      0.302  ",
      "text/html": "<div>\n<style scoped>\n    .dataframe tbody tr th:only-of-type {\n        vertical-align: middle;\n    }\n\n    .dataframe tbody tr th {\n        vertical-align: top;\n    }\n\n    .dataframe thead th {\n        text-align: right;\n    }\n</style>\n<table border=\"1\" class=\"dataframe\">\n  <thead>\n    <tr style=\"text-align: right;\">\n      <th></th>\n      <th>Overall rank</th>\n      <th>Country or region</th>\n      <th>Score</th>\n      <th>GDP per capita</th>\n      <th>Social support</th>\n      <th>Healthy life expectancy</th>\n      <th>Freedom to make life choices</th>\n      <th>Generosity</th>\n      <th>Perceptions of corruption</th>\n    </tr>\n  </thead>\n  <tbody>\n    <tr>\n      <th>0</th>\n      <td>1</td>\n      <td>Finland</td>\n      <td>7.632</td>\n      <td>1.305</td>\n      <td>1.592</td>\n      <td>0.874</td>\n      <td>0.681</td>\n      <td>0.202</td>\n      <td>0.393</td>\n    </tr>\n    <tr>\n      <th>1</th>\n      <td>2</td>\n      <td>Norway</td>\n      <td>7.594</td>\n      <td>1.456</td>\n      <td>1.582</td>\n      <td>0.861</td>\n      <td>0.686</td>\n      <td>0.286</td>\n      <td>0.340</td>\n    </tr>\n    <tr>\n      <th>2</th>\n      <td>3</td>\n      <td>Denmark</td>\n      <td>7.555</td>\n      <td>1.351</td>\n      <td>1.590</td>\n      <td>0.868</td>\n      <td>0.683</td>\n      <td>0.284</td>\n      <td>0.408</td>\n    </tr>\n    <tr>\n      <th>3</th>\n      <td>4</td>\n      <td>Iceland</td>\n      <td>7.495</td>\n      <td>1.343</td>\n      <td>1.644</td>\n      <td>0.914</td>\n      <td>0.677</td>\n      <td>0.353</td>\n      <td>0.138</td>\n    </tr>\n    <tr>\n      <th>4</th>\n      <td>5</td>\n      <td>Switzerland</td>\n      <td>7.487</td>\n      <td>1.420</td>\n      <td>1.549</td>\n      <td>0.927</td>\n      <td>0.660</td>\n      <td>0.256</td>\n      <td>0.357</td>\n    </tr>\n    <tr>\n      <th>5</th>\n      <td>6</td>\n      <td>Netherlands</td>\n      <td>7.441</td>\n      <td>1.361</td>\n      <td>1.488</td>\n      <td>0.878</td>\n      <td>0.638</td>\n      <td>0.333</td>\n      <td>0.295</td>\n    </tr>\n    <tr>\n      <th>6</th>\n      <td>7</td>\n      <td>Canada</td>\n      <td>7.328</td>\n      <td>1.330</td>\n      <td>1.532</td>\n      <td>0.896</td>\n      <td>0.653</td>\n      <td>0.321</td>\n      <td>0.291</td>\n    </tr>\n    <tr>\n      <th>7</th>\n      <td>8</td>\n      <td>New Zealand</td>\n      <td>7.324</td>\n      <td>1.268</td>\n      <td>1.601</td>\n      <td>0.876</td>\n      <td>0.669</td>\n      <td>0.365</td>\n      <td>0.389</td>\n    </tr>\n    <tr>\n      <th>8</th>\n      <td>9</td>\n      <td>Sweden</td>\n      <td>7.314</td>\n      <td>1.355</td>\n      <td>1.501</td>\n      <td>0.913</td>\n      <td>0.659</td>\n      <td>0.285</td>\n      <td>0.383</td>\n    </tr>\n    <tr>\n      <th>9</th>\n      <td>10</td>\n      <td>Australia</td>\n      <td>7.272</td>\n      <td>1.340</td>\n      <td>1.573</td>\n      <td>0.910</td>\n      <td>0.647</td>\n      <td>0.361</td>\n      <td>0.302</td>\n    </tr>\n  </tbody>\n</table>\n</div>"
     },
     "execution_count": 6,
     "metadata": {},
     "output_type": "execute_result"
    }
   ],
   "source": [
    "#2.1 Display the first 10 rows of the dataset.\n",
    "world_hpy.head(10)"
   ]
  },
  {
   "cell_type": "code",
   "execution_count": 7,
   "outputs": [
    {
     "data": {
      "text/plain": "     Overall rank         Country or region  Score  GDP per capita  \\\n146           147                    Malawi  3.587           0.186   \n147           148                     Haiti  3.582           0.315   \n148           149                   Liberia  3.495           0.076   \n149           150                     Syria  3.462           0.689   \n150           151                    Rwanda  3.408           0.332   \n151           152                     Yemen  3.355           0.442   \n152           153                  Tanzania  3.303           0.455   \n153           154               South Sudan  3.254           0.337   \n154           155  Central African Republic  3.083           0.024   \n155           156                   Burundi  2.905           0.091   \n\n     Social support  Healthy life expectancy  Freedom to make life choices  \\\n146           0.541                    0.306                         0.531   \n147           0.714                    0.289                         0.025   \n148           0.858                    0.267                         0.419   \n149           0.382                    0.539                         0.088   \n150           0.896                    0.400                         0.636   \n151           1.073                    0.343                         0.244   \n152           0.991                    0.381                         0.481   \n153           0.608                    0.177                         0.112   \n154           0.000                    0.010                         0.305   \n155           0.627                    0.145                         0.065   \n\n     Generosity  Perceptions of corruption  \n146       0.210                      0.080  \n147       0.392                      0.104  \n148       0.206                      0.030  \n149       0.376                      0.144  \n150       0.200                      0.444  \n151       0.083                      0.064  \n152       0.270                      0.097  \n153       0.224                      0.106  \n154       0.218                      0.038  \n155       0.149                      0.076  ",
      "text/html": "<div>\n<style scoped>\n    .dataframe tbody tr th:only-of-type {\n        vertical-align: middle;\n    }\n\n    .dataframe tbody tr th {\n        vertical-align: top;\n    }\n\n    .dataframe thead th {\n        text-align: right;\n    }\n</style>\n<table border=\"1\" class=\"dataframe\">\n  <thead>\n    <tr style=\"text-align: right;\">\n      <th></th>\n      <th>Overall rank</th>\n      <th>Country or region</th>\n      <th>Score</th>\n      <th>GDP per capita</th>\n      <th>Social support</th>\n      <th>Healthy life expectancy</th>\n      <th>Freedom to make life choices</th>\n      <th>Generosity</th>\n      <th>Perceptions of corruption</th>\n    </tr>\n  </thead>\n  <tbody>\n    <tr>\n      <th>146</th>\n      <td>147</td>\n      <td>Malawi</td>\n      <td>3.587</td>\n      <td>0.186</td>\n      <td>0.541</td>\n      <td>0.306</td>\n      <td>0.531</td>\n      <td>0.210</td>\n      <td>0.080</td>\n    </tr>\n    <tr>\n      <th>147</th>\n      <td>148</td>\n      <td>Haiti</td>\n      <td>3.582</td>\n      <td>0.315</td>\n      <td>0.714</td>\n      <td>0.289</td>\n      <td>0.025</td>\n      <td>0.392</td>\n      <td>0.104</td>\n    </tr>\n    <tr>\n      <th>148</th>\n      <td>149</td>\n      <td>Liberia</td>\n      <td>3.495</td>\n      <td>0.076</td>\n      <td>0.858</td>\n      <td>0.267</td>\n      <td>0.419</td>\n      <td>0.206</td>\n      <td>0.030</td>\n    </tr>\n    <tr>\n      <th>149</th>\n      <td>150</td>\n      <td>Syria</td>\n      <td>3.462</td>\n      <td>0.689</td>\n      <td>0.382</td>\n      <td>0.539</td>\n      <td>0.088</td>\n      <td>0.376</td>\n      <td>0.144</td>\n    </tr>\n    <tr>\n      <th>150</th>\n      <td>151</td>\n      <td>Rwanda</td>\n      <td>3.408</td>\n      <td>0.332</td>\n      <td>0.896</td>\n      <td>0.400</td>\n      <td>0.636</td>\n      <td>0.200</td>\n      <td>0.444</td>\n    </tr>\n    <tr>\n      <th>151</th>\n      <td>152</td>\n      <td>Yemen</td>\n      <td>3.355</td>\n      <td>0.442</td>\n      <td>1.073</td>\n      <td>0.343</td>\n      <td>0.244</td>\n      <td>0.083</td>\n      <td>0.064</td>\n    </tr>\n    <tr>\n      <th>152</th>\n      <td>153</td>\n      <td>Tanzania</td>\n      <td>3.303</td>\n      <td>0.455</td>\n      <td>0.991</td>\n      <td>0.381</td>\n      <td>0.481</td>\n      <td>0.270</td>\n      <td>0.097</td>\n    </tr>\n    <tr>\n      <th>153</th>\n      <td>154</td>\n      <td>South Sudan</td>\n      <td>3.254</td>\n      <td>0.337</td>\n      <td>0.608</td>\n      <td>0.177</td>\n      <td>0.112</td>\n      <td>0.224</td>\n      <td>0.106</td>\n    </tr>\n    <tr>\n      <th>154</th>\n      <td>155</td>\n      <td>Central African Republic</td>\n      <td>3.083</td>\n      <td>0.024</td>\n      <td>0.000</td>\n      <td>0.010</td>\n      <td>0.305</td>\n      <td>0.218</td>\n      <td>0.038</td>\n    </tr>\n    <tr>\n      <th>155</th>\n      <td>156</td>\n      <td>Burundi</td>\n      <td>2.905</td>\n      <td>0.091</td>\n      <td>0.627</td>\n      <td>0.145</td>\n      <td>0.065</td>\n      <td>0.149</td>\n      <td>0.076</td>\n    </tr>\n  </tbody>\n</table>\n</div>"
     },
     "execution_count": 7,
     "metadata": {},
     "output_type": "execute_result"
    }
   ],
   "source": [
    "#2.2 Display the last 10 rows of the dataset.\n",
    "world_hpy.tail(10) "
   ],
   "metadata": {
    "collapsed": false,
    "ExecuteTime": {
     "end_time": "2024-10-17T00:09:07.899863700Z",
     "start_time": "2024-10-17T00:09:07.887349600Z"
    }
   }
  },
  {
   "cell_type": "code",
   "execution_count": 8,
   "metadata": {
    "id": "XmyRJcvED4P2",
    "ExecuteTime": {
     "end_time": "2024-10-17T00:09:10.424586800Z",
     "start_time": "2024-10-17T00:09:10.413837700Z"
    }
   },
   "outputs": [
    {
     "data": {
      "text/plain": "     Overall rank    Country or region  Score  GDP per capita  Social support  \\\n100           101                Nepal  4.880           0.425           1.228   \n84             85              Morocco  5.254           0.779           0.797   \n55             56              Jamaica  5.890           0.819           1.493   \n83             84              Algeria  5.295           0.979           1.154   \n87             88           Tajikistan  5.199           0.474           1.166   \n113           114  Congo (Brazzaville)  4.559           0.682           0.811   \n41             42               Poland  6.123           1.176           1.448   \n148           149              Liberia  3.495           0.076           0.858   \n73             74               Turkey  5.483           1.148           1.380   \n10             11       United Kingdom  7.190           1.244           1.433   \n\n     Healthy life expectancy  Freedom to make life choices  Generosity  \\\n100                    0.539                         0.526       0.302   \n84                     0.669                         0.460       0.026   \n55                     0.693                         0.575       0.096   \n83                     0.687                         0.077       0.055   \n87                     0.598                         0.292       0.187   \n113                    0.343                         0.514       0.091   \n41                     0.781                         0.546       0.108   \n148                    0.267                         0.419       0.206   \n73                     0.686                         0.324       0.106   \n10                     0.888                         0.464       0.262   \n\n     Perceptions of corruption  \n100                      0.078  \n84                       0.074  \n55                       0.031  \n83                       0.135  \n87                       0.034  \n113                      0.077  \n41                       0.064  \n148                      0.030  \n73                       0.109  \n10                       0.082  ",
      "text/html": "<div>\n<style scoped>\n    .dataframe tbody tr th:only-of-type {\n        vertical-align: middle;\n    }\n\n    .dataframe tbody tr th {\n        vertical-align: top;\n    }\n\n    .dataframe thead th {\n        text-align: right;\n    }\n</style>\n<table border=\"1\" class=\"dataframe\">\n  <thead>\n    <tr style=\"text-align: right;\">\n      <th></th>\n      <th>Overall rank</th>\n      <th>Country or region</th>\n      <th>Score</th>\n      <th>GDP per capita</th>\n      <th>Social support</th>\n      <th>Healthy life expectancy</th>\n      <th>Freedom to make life choices</th>\n      <th>Generosity</th>\n      <th>Perceptions of corruption</th>\n    </tr>\n  </thead>\n  <tbody>\n    <tr>\n      <th>100</th>\n      <td>101</td>\n      <td>Nepal</td>\n      <td>4.880</td>\n      <td>0.425</td>\n      <td>1.228</td>\n      <td>0.539</td>\n      <td>0.526</td>\n      <td>0.302</td>\n      <td>0.078</td>\n    </tr>\n    <tr>\n      <th>84</th>\n      <td>85</td>\n      <td>Morocco</td>\n      <td>5.254</td>\n      <td>0.779</td>\n      <td>0.797</td>\n      <td>0.669</td>\n      <td>0.460</td>\n      <td>0.026</td>\n      <td>0.074</td>\n    </tr>\n    <tr>\n      <th>55</th>\n      <td>56</td>\n      <td>Jamaica</td>\n      <td>5.890</td>\n      <td>0.819</td>\n      <td>1.493</td>\n      <td>0.693</td>\n      <td>0.575</td>\n      <td>0.096</td>\n      <td>0.031</td>\n    </tr>\n    <tr>\n      <th>83</th>\n      <td>84</td>\n      <td>Algeria</td>\n      <td>5.295</td>\n      <td>0.979</td>\n      <td>1.154</td>\n      <td>0.687</td>\n      <td>0.077</td>\n      <td>0.055</td>\n      <td>0.135</td>\n    </tr>\n    <tr>\n      <th>87</th>\n      <td>88</td>\n      <td>Tajikistan</td>\n      <td>5.199</td>\n      <td>0.474</td>\n      <td>1.166</td>\n      <td>0.598</td>\n      <td>0.292</td>\n      <td>0.187</td>\n      <td>0.034</td>\n    </tr>\n    <tr>\n      <th>113</th>\n      <td>114</td>\n      <td>Congo (Brazzaville)</td>\n      <td>4.559</td>\n      <td>0.682</td>\n      <td>0.811</td>\n      <td>0.343</td>\n      <td>0.514</td>\n      <td>0.091</td>\n      <td>0.077</td>\n    </tr>\n    <tr>\n      <th>41</th>\n      <td>42</td>\n      <td>Poland</td>\n      <td>6.123</td>\n      <td>1.176</td>\n      <td>1.448</td>\n      <td>0.781</td>\n      <td>0.546</td>\n      <td>0.108</td>\n      <td>0.064</td>\n    </tr>\n    <tr>\n      <th>148</th>\n      <td>149</td>\n      <td>Liberia</td>\n      <td>3.495</td>\n      <td>0.076</td>\n      <td>0.858</td>\n      <td>0.267</td>\n      <td>0.419</td>\n      <td>0.206</td>\n      <td>0.030</td>\n    </tr>\n    <tr>\n      <th>73</th>\n      <td>74</td>\n      <td>Turkey</td>\n      <td>5.483</td>\n      <td>1.148</td>\n      <td>1.380</td>\n      <td>0.686</td>\n      <td>0.324</td>\n      <td>0.106</td>\n      <td>0.109</td>\n    </tr>\n    <tr>\n      <th>10</th>\n      <td>11</td>\n      <td>United Kingdom</td>\n      <td>7.190</td>\n      <td>1.244</td>\n      <td>1.433</td>\n      <td>0.888</td>\n      <td>0.464</td>\n      <td>0.262</td>\n      <td>0.082</td>\n    </tr>\n  </tbody>\n</table>\n</div>"
     },
     "execution_count": 8,
     "metadata": {},
     "output_type": "execute_result"
    }
   ],
   "source": [
    "#3 Display the random 10 rows\n",
    "world_hpy.sample(n=10) "
   ]
  },
  {
   "cell_type": "code",
   "execution_count": 9,
   "metadata": {
    "id": "N9MA5WPBD5zt",
    "ExecuteTime": {
     "end_time": "2024-10-17T00:09:11.787707500Z",
     "start_time": "2024-10-17T00:09:11.771666500Z"
    }
   },
   "outputs": [
    {
     "data": {
      "text/plain": "     Overall rank  Country or region  Score  GDP per capita  Social support  \\\n90             91            Nigeria  5.155           0.689           1.172   \n76             77           Portugal  5.410           1.188           1.429   \n37             38  Trinidad & Tobago  6.192           1.223           1.492   \n11             12            Austria  7.139           1.341           1.504   \n70             71        Philippines  5.524           0.775           1.312   \n147           148              Haiti  3.582           0.315           0.714   \n119           120           Cambodia  4.433           0.549           1.088   \n60             61             Cyprus  5.762           1.229           1.191   \n46             47              Italy  6.000           1.264           1.501   \n65             66             Kosovo  5.662           0.855           1.230   \n\n     Healthy life expectancy  Freedom to make life choices  Generosity  \\\n90                     0.048                         0.462       0.201   \n76                     0.884                         0.562       0.055   \n37                     0.564                         0.575       0.171   \n11                     0.891                         0.617       0.242   \n70                     0.513                         0.643       0.120   \n147                    0.289                         0.025       0.392   \n119                    0.457                         0.696       0.256   \n60                     0.909                         0.423       0.202   \n46                     0.946                         0.281       0.137   \n65                     0.578                         0.448       0.274   \n\n     Perceptions of corruption  \n90                       0.032  \n76                       0.017  \n37                       0.019  \n11                       0.224  \n70                       0.105  \n147                      0.104  \n119                      0.065  \n60                       0.035  \n46                       0.028  \n65                       0.023  ",
      "text/html": "<div>\n<style scoped>\n    .dataframe tbody tr th:only-of-type {\n        vertical-align: middle;\n    }\n\n    .dataframe tbody tr th {\n        vertical-align: top;\n    }\n\n    .dataframe thead th {\n        text-align: right;\n    }\n</style>\n<table border=\"1\" class=\"dataframe\">\n  <thead>\n    <tr style=\"text-align: right;\">\n      <th></th>\n      <th>Overall rank</th>\n      <th>Country or region</th>\n      <th>Score</th>\n      <th>GDP per capita</th>\n      <th>Social support</th>\n      <th>Healthy life expectancy</th>\n      <th>Freedom to make life choices</th>\n      <th>Generosity</th>\n      <th>Perceptions of corruption</th>\n    </tr>\n  </thead>\n  <tbody>\n    <tr>\n      <th>90</th>\n      <td>91</td>\n      <td>Nigeria</td>\n      <td>5.155</td>\n      <td>0.689</td>\n      <td>1.172</td>\n      <td>0.048</td>\n      <td>0.462</td>\n      <td>0.201</td>\n      <td>0.032</td>\n    </tr>\n    <tr>\n      <th>76</th>\n      <td>77</td>\n      <td>Portugal</td>\n      <td>5.410</td>\n      <td>1.188</td>\n      <td>1.429</td>\n      <td>0.884</td>\n      <td>0.562</td>\n      <td>0.055</td>\n      <td>0.017</td>\n    </tr>\n    <tr>\n      <th>37</th>\n      <td>38</td>\n      <td>Trinidad &amp; Tobago</td>\n      <td>6.192</td>\n      <td>1.223</td>\n      <td>1.492</td>\n      <td>0.564</td>\n      <td>0.575</td>\n      <td>0.171</td>\n      <td>0.019</td>\n    </tr>\n    <tr>\n      <th>11</th>\n      <td>12</td>\n      <td>Austria</td>\n      <td>7.139</td>\n      <td>1.341</td>\n      <td>1.504</td>\n      <td>0.891</td>\n      <td>0.617</td>\n      <td>0.242</td>\n      <td>0.224</td>\n    </tr>\n    <tr>\n      <th>70</th>\n      <td>71</td>\n      <td>Philippines</td>\n      <td>5.524</td>\n      <td>0.775</td>\n      <td>1.312</td>\n      <td>0.513</td>\n      <td>0.643</td>\n      <td>0.120</td>\n      <td>0.105</td>\n    </tr>\n    <tr>\n      <th>147</th>\n      <td>148</td>\n      <td>Haiti</td>\n      <td>3.582</td>\n      <td>0.315</td>\n      <td>0.714</td>\n      <td>0.289</td>\n      <td>0.025</td>\n      <td>0.392</td>\n      <td>0.104</td>\n    </tr>\n    <tr>\n      <th>119</th>\n      <td>120</td>\n      <td>Cambodia</td>\n      <td>4.433</td>\n      <td>0.549</td>\n      <td>1.088</td>\n      <td>0.457</td>\n      <td>0.696</td>\n      <td>0.256</td>\n      <td>0.065</td>\n    </tr>\n    <tr>\n      <th>60</th>\n      <td>61</td>\n      <td>Cyprus</td>\n      <td>5.762</td>\n      <td>1.229</td>\n      <td>1.191</td>\n      <td>0.909</td>\n      <td>0.423</td>\n      <td>0.202</td>\n      <td>0.035</td>\n    </tr>\n    <tr>\n      <th>46</th>\n      <td>47</td>\n      <td>Italy</td>\n      <td>6.000</td>\n      <td>1.264</td>\n      <td>1.501</td>\n      <td>0.946</td>\n      <td>0.281</td>\n      <td>0.137</td>\n      <td>0.028</td>\n    </tr>\n    <tr>\n      <th>65</th>\n      <td>66</td>\n      <td>Kosovo</td>\n      <td>5.662</td>\n      <td>0.855</td>\n      <td>1.230</td>\n      <td>0.578</td>\n      <td>0.448</td>\n      <td>0.274</td>\n      <td>0.023</td>\n    </tr>\n  </tbody>\n</table>\n</div>"
     },
     "execution_count": 9,
     "metadata": {},
     "output_type": "execute_result"
    }
   ],
   "source": [
    "#4 sample using seed\n",
    "np.random.seed(7)\n",
    "world_hpy.sample(n=10) "
   ]
  },
  {
   "cell_type": "code",
   "execution_count": 10,
   "metadata": {
    "id": "GjUmX2RdD7X_",
    "ExecuteTime": {
     "end_time": "2024-10-17T00:09:14.049412200Z",
     "start_time": "2024-10-17T00:09:14.036905Z"
    }
   },
   "outputs": [
    {
     "name": "stdout",
     "output_type": "stream",
     "text": [
      "Overall rank                          1\n",
      "Country or region               Finland\n",
      "Score                             7.632\n",
      "GDP per capita                    1.305\n",
      "Social support                    1.592\n",
      "Healthy life expectancy           0.874\n",
      "Freedom to make life choices      0.681\n",
      "Generosity                        0.202\n",
      "Perceptions of corruption         0.393\n",
      "Name: 0, dtype: object\n",
      "Overall rank                                11\n",
      "Country or region               United Kingdom\n",
      "Score                                     7.19\n",
      "GDP per capita                           1.244\n",
      "Social support                           1.433\n",
      "Healthy life expectancy                  0.888\n",
      "Freedom to make life choices             0.464\n",
      "Generosity                               0.262\n",
      "Perceptions of corruption                0.082\n",
      "Name: 10, dtype: object\n",
      "Overall rank                                21\n",
      "Country or region               Czech Republic\n",
      "Score                                    6.711\n",
      "GDP per capita                           1.233\n",
      "Social support                           1.489\n",
      "Healthy life expectancy                  0.854\n",
      "Freedom to make life choices             0.543\n",
      "Generosity                               0.064\n",
      "Perceptions of corruption                0.034\n",
      "Name: 20, dtype: object\n",
      "Overall rank                         31\n",
      "Country or region               Uruguay\n",
      "Score                             6.379\n",
      "GDP per capita                    1.093\n",
      "Social support                    1.459\n",
      "Healthy life expectancy           0.771\n",
      "Freedom to make life choices      0.625\n",
      "Generosity                         0.13\n",
      "Perceptions of corruption         0.155\n",
      "Name: 30, dtype: object\n",
      "Overall rank                           41\n",
      "Country or region               Nicaragua\n",
      "Score                               6.141\n",
      "GDP per capita                      0.668\n",
      "Social support                      1.319\n",
      "Healthy life expectancy               0.7\n",
      "Freedom to make life choices        0.527\n",
      "Generosity                          0.208\n",
      "Perceptions of corruption           0.128\n",
      "Name: 40, dtype: object\n",
      "Overall rank                          51\n",
      "Country or region               Slovenia\n",
      "Score                              5.948\n",
      "GDP per capita                     1.219\n",
      "Social support                     1.506\n",
      "Healthy life expectancy            0.856\n",
      "Freedom to make life choices       0.633\n",
      "Generosity                          0.16\n",
      "Perceptions of corruption          0.051\n",
      "Name: 50, dtype: object\n",
      "Overall rank                        61\n",
      "Country or region               Cyprus\n",
      "Score                            5.762\n",
      "GDP per capita                   1.229\n",
      "Social support                   1.191\n",
      "Healthy life expectancy          0.909\n",
      "Freedom to make life choices     0.423\n",
      "Generosity                       0.202\n",
      "Perceptions of corruption        0.035\n",
      "Name: 60, dtype: object\n",
      "Overall rank                             71\n",
      "Country or region               Philippines\n",
      "Score                                 5.524\n",
      "GDP per capita                        0.775\n",
      "Social support                        1.312\n",
      "Healthy life expectancy               0.513\n",
      "Freedom to make life choices          0.643\n",
      "Generosity                             0.12\n",
      "Perceptions of corruption             0.105\n",
      "Name: 70, dtype: object\n",
      "Overall rank                            81\n",
      "Country or region               Montenegro\n",
      "Score                                5.347\n",
      "GDP per capita                       1.017\n",
      "Social support                       1.279\n",
      "Healthy life expectancy              0.729\n",
      "Freedom to make life choices         0.259\n",
      "Generosity                           0.111\n",
      "Perceptions of corruption            0.081\n",
      "Name: 80, dtype: object\n",
      "Overall rank                         91\n",
      "Country or region               Nigeria\n",
      "Score                             5.155\n",
      "GDP per capita                    0.689\n",
      "Social support                    1.172\n",
      "Healthy life expectancy           0.048\n",
      "Freedom to make life choices      0.462\n",
      "Generosity                        0.201\n",
      "Perceptions of corruption         0.032\n",
      "Name: 90, dtype: object\n",
      "Overall rank                      101\n",
      "Country or region               Nepal\n",
      "Score                            4.88\n",
      "GDP per capita                  0.425\n",
      "Social support                  1.228\n",
      "Healthy life expectancy         0.539\n",
      "Freedom to make life choices    0.526\n",
      "Generosity                      0.302\n",
      "Perceptions of corruption       0.078\n",
      "Name: 100, dtype: object\n",
      "Overall rank                        111\n",
      "Country or region               Tunisia\n",
      "Score                             4.592\n",
      "GDP per capita                      0.9\n",
      "Social support                    0.906\n",
      "Healthy life expectancy            0.69\n",
      "Freedom to make life choices      0.271\n",
      "Generosity                         0.04\n",
      "Perceptions of corruption         0.063\n",
      "Name: 110, dtype: object\n",
      "Overall rank                             121\n",
      "Country or region               Burkina Faso\n",
      "Score                                  4.424\n",
      "GDP per capita                         0.314\n",
      "Social support                         1.097\n",
      "Healthy life expectancy                0.254\n",
      "Freedom to make life choices           0.312\n",
      "Generosity                             0.175\n",
      "Perceptions of corruption              0.128\n",
      "Name: 120, dtype: object\n",
      "Overall rank                      131\n",
      "Country or region                Chad\n",
      "Score                           4.301\n",
      "GDP per capita                  0.358\n",
      "Social support                  0.907\n",
      "Healthy life expectancy         0.053\n",
      "Freedom to make life choices    0.189\n",
      "Generosity                      0.181\n",
      "Perceptions of corruption        0.06\n",
      "Name: 130, dtype: object\n",
      "Overall rank                        141\n",
      "Country or region               Lesotho\n",
      "Score                             3.808\n",
      "GDP per capita                    0.472\n",
      "Social support                    1.215\n",
      "Healthy life expectancy           0.079\n",
      "Freedom to make life choices      0.423\n",
      "Generosity                        0.116\n",
      "Perceptions of corruption         0.112\n",
      "Name: 140, dtype: object\n",
      "Overall rank                       151\n",
      "Country or region               Rwanda\n",
      "Score                            3.408\n",
      "GDP per capita                   0.332\n",
      "Social support                   0.896\n",
      "Healthy life expectancy            0.4\n",
      "Freedom to make life choices     0.636\n",
      "Generosity                         0.2\n",
      "Perceptions of corruption        0.444\n",
      "Name: 150, dtype: object\n"
     ]
    }
   ],
   "source": [
    "#5 Display every 10th row\n",
    "for i in range(0,len(world_hpy) ,10):\n",
    "    print(world_hpy.iloc[i])"
   ]
  },
  {
   "cell_type": "code",
   "execution_count": 11,
   "metadata": {
    "id": "DXdwpo1SD9-F",
    "ExecuteTime": {
     "end_time": "2024-10-17T00:09:15.618019500Z",
     "start_time": "2024-10-17T00:09:15.600977400Z"
    }
   },
   "outputs": [
    {
     "data": {
      "text/plain": "        Overall rank Country or region       Score  GDP per capita  \\\ncount     156.000000               156  156.000000      156.000000   \nunique           NaN               156         NaN             NaN   \ntop              NaN           Finland         NaN             NaN   \nfreq             NaN                 1         NaN             NaN   \nmean       78.500000               NaN    5.375917        0.891449   \nstd        45.177428               NaN    1.119506        0.391921   \nmin         1.000000               NaN    2.905000        0.000000   \n25%        39.750000               NaN    4.453750        0.616250   \n50%        78.500000               NaN    5.378000        0.949500   \n75%       117.250000               NaN    6.168500        1.197750   \nmax       156.000000               NaN    7.632000        2.096000   \n\n        Social support  Healthy life expectancy  Freedom to make life choices  \\\ncount       156.000000               156.000000                    156.000000   \nunique             NaN                      NaN                           NaN   \ntop                NaN                      NaN                           NaN   \nfreq               NaN                      NaN                           NaN   \nmean          1.213237                 0.597346                      0.454506   \nstd           0.302372                 0.247579                      0.162424   \nmin           0.000000                 0.000000                      0.000000   \n25%           1.066750                 0.422250                      0.356000   \n50%           1.255000                 0.644000                      0.487000   \n75%           1.463000                 0.777250                      0.578500   \nmax           1.644000                 1.030000                      0.724000   \n\n        Generosity  Perceptions of corruption  \ncount   156.000000                 155.000000  \nunique         NaN                        NaN  \ntop            NaN                        NaN  \nfreq           NaN                        NaN  \nmean      0.181006                   0.112000  \nstd       0.098471                   0.096492  \nmin       0.000000                   0.000000  \n25%       0.109500                   0.051000  \n50%       0.174000                   0.082000  \n75%       0.239000                   0.137000  \nmax       0.598000                   0.457000  ",
      "text/html": "<div>\n<style scoped>\n    .dataframe tbody tr th:only-of-type {\n        vertical-align: middle;\n    }\n\n    .dataframe tbody tr th {\n        vertical-align: top;\n    }\n\n    .dataframe thead th {\n        text-align: right;\n    }\n</style>\n<table border=\"1\" class=\"dataframe\">\n  <thead>\n    <tr style=\"text-align: right;\">\n      <th></th>\n      <th>Overall rank</th>\n      <th>Country or region</th>\n      <th>Score</th>\n      <th>GDP per capita</th>\n      <th>Social support</th>\n      <th>Healthy life expectancy</th>\n      <th>Freedom to make life choices</th>\n      <th>Generosity</th>\n      <th>Perceptions of corruption</th>\n    </tr>\n  </thead>\n  <tbody>\n    <tr>\n      <th>count</th>\n      <td>156.000000</td>\n      <td>156</td>\n      <td>156.000000</td>\n      <td>156.000000</td>\n      <td>156.000000</td>\n      <td>156.000000</td>\n      <td>156.000000</td>\n      <td>156.000000</td>\n      <td>155.000000</td>\n    </tr>\n    <tr>\n      <th>unique</th>\n      <td>NaN</td>\n      <td>156</td>\n      <td>NaN</td>\n      <td>NaN</td>\n      <td>NaN</td>\n      <td>NaN</td>\n      <td>NaN</td>\n      <td>NaN</td>\n      <td>NaN</td>\n    </tr>\n    <tr>\n      <th>top</th>\n      <td>NaN</td>\n      <td>Finland</td>\n      <td>NaN</td>\n      <td>NaN</td>\n      <td>NaN</td>\n      <td>NaN</td>\n      <td>NaN</td>\n      <td>NaN</td>\n      <td>NaN</td>\n    </tr>\n    <tr>\n      <th>freq</th>\n      <td>NaN</td>\n      <td>1</td>\n      <td>NaN</td>\n      <td>NaN</td>\n      <td>NaN</td>\n      <td>NaN</td>\n      <td>NaN</td>\n      <td>NaN</td>\n      <td>NaN</td>\n    </tr>\n    <tr>\n      <th>mean</th>\n      <td>78.500000</td>\n      <td>NaN</td>\n      <td>5.375917</td>\n      <td>0.891449</td>\n      <td>1.213237</td>\n      <td>0.597346</td>\n      <td>0.454506</td>\n      <td>0.181006</td>\n      <td>0.112000</td>\n    </tr>\n    <tr>\n      <th>std</th>\n      <td>45.177428</td>\n      <td>NaN</td>\n      <td>1.119506</td>\n      <td>0.391921</td>\n      <td>0.302372</td>\n      <td>0.247579</td>\n      <td>0.162424</td>\n      <td>0.098471</td>\n      <td>0.096492</td>\n    </tr>\n    <tr>\n      <th>min</th>\n      <td>1.000000</td>\n      <td>NaN</td>\n      <td>2.905000</td>\n      <td>0.000000</td>\n      <td>0.000000</td>\n      <td>0.000000</td>\n      <td>0.000000</td>\n      <td>0.000000</td>\n      <td>0.000000</td>\n    </tr>\n    <tr>\n      <th>25%</th>\n      <td>39.750000</td>\n      <td>NaN</td>\n      <td>4.453750</td>\n      <td>0.616250</td>\n      <td>1.066750</td>\n      <td>0.422250</td>\n      <td>0.356000</td>\n      <td>0.109500</td>\n      <td>0.051000</td>\n    </tr>\n    <tr>\n      <th>50%</th>\n      <td>78.500000</td>\n      <td>NaN</td>\n      <td>5.378000</td>\n      <td>0.949500</td>\n      <td>1.255000</td>\n      <td>0.644000</td>\n      <td>0.487000</td>\n      <td>0.174000</td>\n      <td>0.082000</td>\n    </tr>\n    <tr>\n      <th>75%</th>\n      <td>117.250000</td>\n      <td>NaN</td>\n      <td>6.168500</td>\n      <td>1.197750</td>\n      <td>1.463000</td>\n      <td>0.777250</td>\n      <td>0.578500</td>\n      <td>0.239000</td>\n      <td>0.137000</td>\n    </tr>\n    <tr>\n      <th>max</th>\n      <td>156.000000</td>\n      <td>NaN</td>\n      <td>7.632000</td>\n      <td>2.096000</td>\n      <td>1.644000</td>\n      <td>1.030000</td>\n      <td>0.724000</td>\n      <td>0.598000</td>\n      <td>0.457000</td>\n    </tr>\n  </tbody>\n</table>\n</div>"
     },
     "execution_count": 11,
     "metadata": {},
     "output_type": "execute_result"
    }
   ],
   "source": [
    "#6 Get the summary stats of the dataset regarding each column\n",
    "world_hpy.describe(include='all') "
   ]
  },
  {
   "cell_type": "code",
   "execution_count": 12,
   "metadata": {
    "id": "qhE0TwZZEAM5",
    "ExecuteTime": {
     "end_time": "2024-10-17T00:09:26.773500100Z",
     "start_time": "2024-10-17T00:09:26.749826200Z"
    }
   },
   "outputs": [
    {
     "data": {
      "text/plain": "Overall rank                    0\nCountry or region               0\nScore                           0\nGDP per capita                  0\nSocial support                  0\nHealthy life expectancy         0\nFreedom to make life choices    0\nGenerosity                      0\nPerceptions of corruption       1\ndtype: int64"
     },
     "execution_count": 12,
     "metadata": {},
     "output_type": "execute_result"
    }
   ],
   "source": [
    "#7 Identify and count the number of missing values in each column\n",
    "world_hpy.isnull().sum()"
   ]
  },
  {
   "cell_type": "markdown",
   "metadata": {
    "id": "03njHFZpEDcR"
   },
   "source": [
    "# Q2. Basic Data Statistics: **(10 Pts)**\n",
    "\n",
    "1. Calculate the mean, median, and standard deviation of the happiness Score across all countries. **(1 Pts)**\n",
    "2. Identify the top 5 happiest countries and the bottom 5 least happy countries based on happiness Score. **(1 Pts)**\n",
    "3. Find the country with the highest Healthy Life Expectancy. What is the corresponding happiness Score? **(2 Pts)**\n",
    "4. Calculate the average Corruption Perceptions for countries with a happiness Score greater than 6. **(2 Pts)**\n",
    "5. Are there any countries where Generosity is higher than Social Support? List them. **(2 Pts)**\n",
    "6. What is the range (max-min) of GDP per Capita values in the dataset? **(2 Pts)**"
   ]
  },
  {
   "cell_type": "code",
   "execution_count": 13,
   "metadata": {
    "id": "7VerqUJlIxdB",
    "ExecuteTime": {
     "end_time": "2024-10-17T00:13:36.087171400Z",
     "start_time": "2024-10-17T00:13:36.071774400Z"
    }
   },
   "outputs": [
    {
     "name": "stdout",
     "output_type": "stream",
     "text": [
      "Mean Score:  5.375916666666667\n",
      "Median Score:  5.378\n",
      "Standart Score:  1.119505852731943\n"
     ]
    }
   ],
   "source": [
    "#1 The mean, median, and standard deviation of the happiness Score across all countries\n",
    "\n",
    "mean_score = world_hpy['Score'].mean() # average\n",
    "median_score = world_hpy['Score'].median() # middle one\n",
    "standart_score = world_hpy['Score'].std() # standart sapma\n",
    "\n",
    "print(\"Mean Score: \" ,mean_score)\n",
    "print(\"Median Score: \" ,median_score)\n",
    "print(\"Standart Score: \" ,standart_score)"
   ]
  },
  {
   "cell_type": "code",
   "execution_count": 14,
   "metadata": {
    "id": "wggNKMOnIxZR",
    "ExecuteTime": {
     "end_time": "2024-10-17T00:13:38.454039600Z",
     "start_time": "2024-10-17T00:13:38.436821400Z"
    }
   },
   "outputs": [
    {
     "name": "stdout",
     "output_type": "stream",
     "text": [
      "Top 5 happiest countries:\n",
      "    Overall rank Country or region  Score  GDP per capita  Social support  \\\n",
      "0             1           Finland  7.632           1.305           1.592   \n",
      "1             2            Norway  7.594           1.456           1.582   \n",
      "2             3           Denmark  7.555           1.351           1.590   \n",
      "3             4           Iceland  7.495           1.343           1.644   \n",
      "4             5       Switzerland  7.487           1.420           1.549   \n",
      "\n",
      "   Healthy life expectancy  Freedom to make life choices  Generosity  \\\n",
      "0                    0.874                         0.681       0.202   \n",
      "1                    0.861                         0.686       0.286   \n",
      "2                    0.868                         0.683       0.284   \n",
      "3                    0.914                         0.677       0.353   \n",
      "4                    0.927                         0.660       0.256   \n",
      "\n",
      "   Perceptions of corruption  \n",
      "0                      0.393  \n",
      "1                      0.340  \n",
      "2                      0.408  \n",
      "3                      0.138  \n",
      "4                      0.357  \n",
      "Bottom 5 least happy countries:\n",
      "      Overall rank         Country or region  Score  GDP per capita  \\\n",
      "155           156                   Burundi  2.905           0.091   \n",
      "154           155  Central African Republic  3.083           0.024   \n",
      "153           154               South Sudan  3.254           0.337   \n",
      "152           153                  Tanzania  3.303           0.455   \n",
      "151           152                     Yemen  3.355           0.442   \n",
      "\n",
      "     Social support  Healthy life expectancy  Freedom to make life choices  \\\n",
      "155           0.627                    0.145                         0.065   \n",
      "154           0.000                    0.010                         0.305   \n",
      "153           0.608                    0.177                         0.112   \n",
      "152           0.991                    0.381                         0.481   \n",
      "151           1.073                    0.343                         0.244   \n",
      "\n",
      "     Generosity  Perceptions of corruption  \n",
      "155       0.149                      0.076  \n",
      "154       0.218                      0.038  \n",
      "153       0.224                      0.106  \n",
      "152       0.270                      0.097  \n",
      "151       0.083                      0.064  \n"
     ]
    }
   ],
   "source": [
    "#2 The top 5 happiest countries and the bottom 5 least happy countries based on happiness Score\n",
    "\n",
    "top5_happy =world_hpy.nlargest(5, 'Score')\n",
    "bot5_happy =world_hpy.nsmallest(5, 'Score')\n",
    "\n",
    "print(\"Top 5 happiest countries:\\n\", top5_happy)\n",
    "print(\"Bottom 5 least happy countries:\\n\", bot5_happy) "
   ]
  },
  {
   "cell_type": "code",
   "execution_count": 15,
   "metadata": {
    "id": "HEMghv00IxU1",
    "ExecuteTime": {
     "end_time": "2024-10-17T00:14:48.757965400Z",
     "start_time": "2024-10-17T00:14:48.748818700Z"
    }
   },
   "outputs": [
    {
     "name": "stdout",
     "output_type": "stream",
     "text": [
      "   Country or region  Score\n",
      "75         Hong Kong   5.43\n"
     ]
    }
   ],
   "source": [
    "#3 The country with the highest Healthy Life Expectancy and its corresponding happiness Score\n",
    "\n",
    "top1_healthy =world_hpy.nlargest(1, 'Healthy life expectancy')\n",
    "print(top1_healthy[['Country or region','Score']])"
   ]
  },
  {
   "cell_type": "code",
   "execution_count": 16,
   "metadata": {
    "id": "7V9fOGmyIxPx",
    "ExecuteTime": {
     "end_time": "2024-10-17T00:14:58.358673700Z",
     "start_time": "2024-10-17T00:14:58.343871Z"
    }
   },
   "outputs": [
    {
     "name": "stdout",
     "output_type": "stream",
     "text": [
      "The average Corruption Perceptions for countries with a happiness Score greater than 6:\n",
      " 0.1782888888888889\n"
     ]
    }
   ],
   "source": [
    "#4 Calculates the average Corruption Perceptions for countries with a happiness Score greater than 6. \n",
    "\n",
    "map1 = world_hpy['Score'] > 6 \n",
    "Per_of_cor = world_hpy[map1] \n",
    "avg_CP = Per_of_cor['Perceptions of corruption'].mean()\n",
    "print(\"The average Corruption Perceptions for countries with a happiness Score greater than 6:\\n\",avg_CP)"
   ]
  },
  {
   "cell_type": "code",
   "execution_count": 17,
   "metadata": {
    "id": "Xu8KeZpuIxKX",
    "ExecuteTime": {
     "end_time": "2024-10-17T00:15:09.635990800Z",
     "start_time": "2024-10-17T00:15:09.615827500Z"
    }
   },
   "outputs": [
    {
     "data": {
      "text/plain": "     Overall rank         Country or region  Score  GDP per capita  \\\n154           155  Central African Republic  3.083           0.024   \n\n     Social support  Healthy life expectancy  Freedom to make life choices  \\\n154             0.0                     0.01                         0.305   \n\n     Generosity  Perceptions of corruption  \n154       0.218                      0.038  ",
      "text/html": "<div>\n<style scoped>\n    .dataframe tbody tr th:only-of-type {\n        vertical-align: middle;\n    }\n\n    .dataframe tbody tr th {\n        vertical-align: top;\n    }\n\n    .dataframe thead th {\n        text-align: right;\n    }\n</style>\n<table border=\"1\" class=\"dataframe\">\n  <thead>\n    <tr style=\"text-align: right;\">\n      <th></th>\n      <th>Overall rank</th>\n      <th>Country or region</th>\n      <th>Score</th>\n      <th>GDP per capita</th>\n      <th>Social support</th>\n      <th>Healthy life expectancy</th>\n      <th>Freedom to make life choices</th>\n      <th>Generosity</th>\n      <th>Perceptions of corruption</th>\n    </tr>\n  </thead>\n  <tbody>\n    <tr>\n      <th>154</th>\n      <td>155</td>\n      <td>Central African Republic</td>\n      <td>3.083</td>\n      <td>0.024</td>\n      <td>0.0</td>\n      <td>0.01</td>\n      <td>0.305</td>\n      <td>0.218</td>\n      <td>0.038</td>\n    </tr>\n  </tbody>\n</table>\n</div>"
     },
     "execution_count": 17,
     "metadata": {},
     "output_type": "execute_result"
    }
   ],
   "source": [
    "#5 Countries where Generosity is higher than Social Support as a list\n",
    "\n",
    "map2 = world_hpy['Generosity'] > world_hpy['Social support'] \n",
    "world_hpy[map2]\n"
   ]
  },
  {
   "cell_type": "code",
   "execution_count": 18,
   "metadata": {
    "id": "TwGHH-K9IxDy",
    "ExecuteTime": {
     "end_time": "2024-10-17T00:15:50.119902800Z",
     "start_time": "2024-10-17T00:15:50.110987200Z"
    }
   },
   "outputs": [
    {
     "name": "stdout",
     "output_type": "stream",
     "text": [
      "Max of GDP per Capita:\n",
      " Overall rank                                      20\n",
      "Country or region               United Arab Emirates\n",
      "Score                                          6.774\n",
      "GDP per capita                                 2.096\n",
      "Social support                                 0.776\n",
      "Healthy life expectancy                         0.67\n",
      "Freedom to make life choices                   0.284\n",
      "Generosity                                     0.186\n",
      "Perceptions of corruption                        NaN\n",
      "Name: 19, dtype: object \n",
      "\n",
      "Min of GDP per Capita:\n",
      " Overall rank                         98\n",
      "Country or region               Somalia\n",
      "Score                             4.982\n",
      "GDP per capita                      0.0\n",
      "Social support                    0.712\n",
      "Healthy life expectancy           0.115\n",
      "Freedom to make life choices      0.674\n",
      "Generosity                        0.238\n",
      "Perceptions of corruption         0.282\n",
      "Name: 97, dtype: object\n"
     ]
    }
   ],
   "source": [
    "#6 The range (max-min) of GDP per Capita values in the dataset \n",
    "\n",
    "max_gdp_index = world_hpy['GDP per capita'].idxmax()\n",
    "max_gdp_row = world_hpy.loc[max_gdp_index]\n",
    "print(\"Max of GDP per Capita:\\n\",max_gdp_row,\"\\n\")\n",
    "\n",
    "min_gdp_index = world_hpy['GDP per capita'].idxmin()\n",
    "min_gdp_row = world_hpy.loc[min_gdp_index]\n",
    "print(\"Min of GDP per Capita:\\n\",min_gdp_row) \n"
   ]
  },
  {
   "cell_type": "markdown",
   "metadata": {
    "id": "s6LGyNg0Fqns"
   },
   "source": [
    "# Q3. Data Filtering **(20 Pts)**\n",
    "\n",
    "1. How many countries have a Happiness Score greater than 7.5? List their names.**(2 Pts)**\n",
    "2. List all countries where the Corruption Perception score is below 0.2. **(2 Pts)**\n",
    "3. Filter and list the top 5 countries by Generosity. What is their average Happiness Score? **(2 Pts)**\n",
    "4. Find countries where GDP per Capita is less than 0.5 but the Happiness Score is above 4. List the countries. **(2 Pts)**\n",
    "5. Filter countries where Social Support is higher than Freedom to Make Life **(2 Pts)**\n",
    "6. Find countries in the top 10% of Healthy Life Expectancy and list their names. **(2 Pts)**\n",
    "7. Filter and list countries where Generosity is less than Social Support. What is the average Happiness Score of these countries? **(2 Pts)**\n",
    "8.  Find all countries with a Happiness Score below the median happiness score. How many are there, and what are the common characteristics of these countries? **(3 Pts)**\n",
    "9. Filter countries where both Freedom to Make Life Choices and Healthy Life Expectancy are above the global median. How many such countries are there? **(3 Pts)**"
   ]
  },
  {
   "cell_type": "code",
   "execution_count": 19,
   "metadata": {
    "id": "H2ZCnvlKIzvU",
    "ExecuteTime": {
     "end_time": "2024-10-17T00:27:03.730843800Z",
     "start_time": "2024-10-17T00:27:03.723901200Z"
    }
   },
   "outputs": [
    {
     "name": "stdout",
     "output_type": "stream",
     "text": [
      "Countries that have Happiness Score greater than 7.5: \n",
      " 0    Finland\n",
      "1     Norway\n",
      "2    Denmark\n",
      "Name: Country or region, dtype: object\n"
     ]
    }
   ],
   "source": [
    "#1 Countries that have Happiness Score greater than 7.5\n",
    "map3 = world_hpy['Score'] > 7.5\n",
    "nm_map3 = world_hpy[map3]\n",
    "\n",
    "print(\"Countries that have Happiness Score greater than 7.5: \\n\", nm_map3['Country or region'])"
   ]
  },
  {
   "cell_type": "code",
   "execution_count": 20,
   "metadata": {
    "id": "pedm2qN7Izpj",
    "ExecuteTime": {
     "end_time": "2024-10-17T00:27:09.434082800Z",
     "start_time": "2024-10-17T00:27:09.418824800Z"
    }
   },
   "outputs": [
    {
     "name": "stdout",
     "output_type": "stream",
     "text": [
      "List of countries where the Corruption Perception score is below 0.2:\n",
      "      Overall rank         Country or region  Score  GDP per capita  \\\n",
      "3               4                   Iceland  7.495           1.343   \n",
      "10             11            United Kingdom  7.190           1.244   \n",
      "12             13                Costa Rica  7.072           1.010   \n",
      "17             18             United States  6.886           1.398   \n",
      "20             21            Czech Republic  6.711           1.233   \n",
      "..            ...                       ...    ...             ...   \n",
      "151           152                     Yemen  3.355           0.442   \n",
      "152           153                  Tanzania  3.303           0.455   \n",
      "153           154               South Sudan  3.254           0.337   \n",
      "154           155  Central African Republic  3.083           0.024   \n",
      "155           156                   Burundi  2.905           0.091   \n",
      "\n",
      "     Social support  Healthy life expectancy  Freedom to make life choices  \\\n",
      "3             1.644                    0.914                         0.677   \n",
      "10            1.433                    0.888                         0.464   \n",
      "12            1.459                    0.817                         0.632   \n",
      "17            1.471                    0.819                         0.547   \n",
      "20            1.489                    0.854                         0.543   \n",
      "..              ...                      ...                           ...   \n",
      "151           1.073                    0.343                         0.244   \n",
      "152           0.991                    0.381                         0.481   \n",
      "153           0.608                    0.177                         0.112   \n",
      "154           0.000                    0.010                         0.305   \n",
      "155           0.627                    0.145                         0.065   \n",
      "\n",
      "     Generosity  Perceptions of corruption  \n",
      "3         0.353                      0.138  \n",
      "10        0.262                      0.082  \n",
      "12        0.143                      0.101  \n",
      "17        0.291                      0.133  \n",
      "20        0.064                      0.034  \n",
      "..          ...                        ...  \n",
      "151       0.083                      0.064  \n",
      "152       0.270                      0.097  \n",
      "153       0.224                      0.106  \n",
      "154       0.218                      0.038  \n",
      "155       0.149                      0.076  \n",
      "\n",
      "[134 rows x 9 columns]\n"
     ]
    }
   ],
   "source": [
    "#2 List of countries where the Corruption Perception score is below 0.2\n",
    "map4 = world_hpy['Perceptions of corruption'] < 0.2\n",
    "nm_map4 = world_hpy[map4]\n",
    "\n",
    "print(\"List of countries where the Corruption Perception score is below 0.2:\\n\", nm_map4)"
   ]
  },
  {
   "cell_type": "code",
   "execution_count": 21,
   "metadata": {
    "id": "RDR7XZU0IzES",
    "ExecuteTime": {
     "end_time": "2024-10-17T00:27:13.869458900Z",
     "start_time": "2024-10-17T00:27:13.853416100Z"
    }
   },
   "outputs": [
    {
     "name": "stdout",
     "output_type": "stream",
     "text": [
      "129      Myanmar\n",
      "95     Indonesia\n",
      "147        Haiti\n",
      "21         Malta\n",
      "149        Syria\n",
      "Name: Country or region, dtype: object\n",
      "Top 5 country by Generosity and their average Happiness Score:  4.6144\n"
     ]
    }
   ],
   "source": [
    "#3 List of the top 5 country by Generosity and their average Happiness Score \n",
    "\n",
    "top5_geno = world_hpy.nlargest(5, 'Generosity')\n",
    "row_top5geno = top5_geno['Score'].mean() \n",
    "print(top5_geno['Country or region']) \n",
    "print(\"Top 5 country by Generosity and their average Happiness Score: \",row_top5geno)\n"
   ]
  },
  {
   "cell_type": "code",
   "execution_count": 22,
   "metadata": {
    "id": "Q-v1h509IzBw",
    "ExecuteTime": {
     "end_time": "2024-10-17T00:27:22.122385800Z",
     "start_time": "2024-10-17T00:27:22.109869300Z"
    }
   },
   "outputs": [
    {
     "data": {
      "text/plain": "     Overall rank Country or region  Score  GDP per capita  Social support  \\\n87             88        Tajikistan  5.199           0.474           1.166   \n97             98           Somalia  4.982           0.000           0.712   \n100           101             Nepal  4.880           0.425           1.228   \n108           109           Senegal  4.631           0.429           1.117   \n112           113      Sierra Leone  4.571           0.256           0.813   \n117           118              Mali  4.447           0.370           1.233   \n120           121      Burkina Faso  4.424           0.314           1.097   \n122           123        Mozambique  4.417           0.198           0.902   \n123           124             Kenya  4.410           0.493           1.048   \n126           127          Ethiopia  4.350           0.308           0.950   \n130           131              Chad  4.301           0.358           0.907   \n131           132  Congo (Kinshasa)  4.245           0.069           1.136   \n133           134             Niger  4.166           0.131           0.867   \n134           135            Uganda  4.161           0.322           1.090   \n135           136             Benin  4.141           0.378           0.372   \n\n     Healthy life expectancy  Freedom to make life choices  Generosity  \\\n87                     0.598                         0.292       0.187   \n97                     0.115                         0.674       0.238   \n100                    0.539                         0.526       0.302   \n108                    0.433                         0.406       0.138   \n112                    0.000                         0.355       0.238   \n117                    0.152                         0.367       0.139   \n120                    0.254                         0.312       0.175   \n122                    0.173                         0.531       0.206   \n123                    0.454                         0.504       0.352   \n126                    0.391                         0.452       0.220   \n130                    0.053                         0.189       0.181   \n131                    0.204                         0.312       0.197   \n133                    0.221                         0.390       0.175   \n134                    0.237                         0.450       0.259   \n135                    0.240                         0.440       0.163   \n\n     Perceptions of corruption  \n87                       0.034  \n97                       0.282  \n100                      0.078  \n108                      0.082  \n112                      0.053  \n117                      0.056  \n120                      0.128  \n122                      0.158  \n123                      0.055  \n126                      0.146  \n130                      0.060  \n131                      0.052  \n133                      0.099  \n134                      0.061  \n135                      0.067  ",
      "text/html": "<div>\n<style scoped>\n    .dataframe tbody tr th:only-of-type {\n        vertical-align: middle;\n    }\n\n    .dataframe tbody tr th {\n        vertical-align: top;\n    }\n\n    .dataframe thead th {\n        text-align: right;\n    }\n</style>\n<table border=\"1\" class=\"dataframe\">\n  <thead>\n    <tr style=\"text-align: right;\">\n      <th></th>\n      <th>Overall rank</th>\n      <th>Country or region</th>\n      <th>Score</th>\n      <th>GDP per capita</th>\n      <th>Social support</th>\n      <th>Healthy life expectancy</th>\n      <th>Freedom to make life choices</th>\n      <th>Generosity</th>\n      <th>Perceptions of corruption</th>\n    </tr>\n  </thead>\n  <tbody>\n    <tr>\n      <th>87</th>\n      <td>88</td>\n      <td>Tajikistan</td>\n      <td>5.199</td>\n      <td>0.474</td>\n      <td>1.166</td>\n      <td>0.598</td>\n      <td>0.292</td>\n      <td>0.187</td>\n      <td>0.034</td>\n    </tr>\n    <tr>\n      <th>97</th>\n      <td>98</td>\n      <td>Somalia</td>\n      <td>4.982</td>\n      <td>0.000</td>\n      <td>0.712</td>\n      <td>0.115</td>\n      <td>0.674</td>\n      <td>0.238</td>\n      <td>0.282</td>\n    </tr>\n    <tr>\n      <th>100</th>\n      <td>101</td>\n      <td>Nepal</td>\n      <td>4.880</td>\n      <td>0.425</td>\n      <td>1.228</td>\n      <td>0.539</td>\n      <td>0.526</td>\n      <td>0.302</td>\n      <td>0.078</td>\n    </tr>\n    <tr>\n      <th>108</th>\n      <td>109</td>\n      <td>Senegal</td>\n      <td>4.631</td>\n      <td>0.429</td>\n      <td>1.117</td>\n      <td>0.433</td>\n      <td>0.406</td>\n      <td>0.138</td>\n      <td>0.082</td>\n    </tr>\n    <tr>\n      <th>112</th>\n      <td>113</td>\n      <td>Sierra Leone</td>\n      <td>4.571</td>\n      <td>0.256</td>\n      <td>0.813</td>\n      <td>0.000</td>\n      <td>0.355</td>\n      <td>0.238</td>\n      <td>0.053</td>\n    </tr>\n    <tr>\n      <th>117</th>\n      <td>118</td>\n      <td>Mali</td>\n      <td>4.447</td>\n      <td>0.370</td>\n      <td>1.233</td>\n      <td>0.152</td>\n      <td>0.367</td>\n      <td>0.139</td>\n      <td>0.056</td>\n    </tr>\n    <tr>\n      <th>120</th>\n      <td>121</td>\n      <td>Burkina Faso</td>\n      <td>4.424</td>\n      <td>0.314</td>\n      <td>1.097</td>\n      <td>0.254</td>\n      <td>0.312</td>\n      <td>0.175</td>\n      <td>0.128</td>\n    </tr>\n    <tr>\n      <th>122</th>\n      <td>123</td>\n      <td>Mozambique</td>\n      <td>4.417</td>\n      <td>0.198</td>\n      <td>0.902</td>\n      <td>0.173</td>\n      <td>0.531</td>\n      <td>0.206</td>\n      <td>0.158</td>\n    </tr>\n    <tr>\n      <th>123</th>\n      <td>124</td>\n      <td>Kenya</td>\n      <td>4.410</td>\n      <td>0.493</td>\n      <td>1.048</td>\n      <td>0.454</td>\n      <td>0.504</td>\n      <td>0.352</td>\n      <td>0.055</td>\n    </tr>\n    <tr>\n      <th>126</th>\n      <td>127</td>\n      <td>Ethiopia</td>\n      <td>4.350</td>\n      <td>0.308</td>\n      <td>0.950</td>\n      <td>0.391</td>\n      <td>0.452</td>\n      <td>0.220</td>\n      <td>0.146</td>\n    </tr>\n    <tr>\n      <th>130</th>\n      <td>131</td>\n      <td>Chad</td>\n      <td>4.301</td>\n      <td>0.358</td>\n      <td>0.907</td>\n      <td>0.053</td>\n      <td>0.189</td>\n      <td>0.181</td>\n      <td>0.060</td>\n    </tr>\n    <tr>\n      <th>131</th>\n      <td>132</td>\n      <td>Congo (Kinshasa)</td>\n      <td>4.245</td>\n      <td>0.069</td>\n      <td>1.136</td>\n      <td>0.204</td>\n      <td>0.312</td>\n      <td>0.197</td>\n      <td>0.052</td>\n    </tr>\n    <tr>\n      <th>133</th>\n      <td>134</td>\n      <td>Niger</td>\n      <td>4.166</td>\n      <td>0.131</td>\n      <td>0.867</td>\n      <td>0.221</td>\n      <td>0.390</td>\n      <td>0.175</td>\n      <td>0.099</td>\n    </tr>\n    <tr>\n      <th>134</th>\n      <td>135</td>\n      <td>Uganda</td>\n      <td>4.161</td>\n      <td>0.322</td>\n      <td>1.090</td>\n      <td>0.237</td>\n      <td>0.450</td>\n      <td>0.259</td>\n      <td>0.061</td>\n    </tr>\n    <tr>\n      <th>135</th>\n      <td>136</td>\n      <td>Benin</td>\n      <td>4.141</td>\n      <td>0.378</td>\n      <td>0.372</td>\n      <td>0.240</td>\n      <td>0.440</td>\n      <td>0.163</td>\n      <td>0.067</td>\n    </tr>\n  </tbody>\n</table>\n</div>"
     },
     "execution_count": 22,
     "metadata": {},
     "output_type": "execute_result"
    }
   ],
   "source": [
    "#4 List of countries where GDP per Capita is less than 0.5 but the Happiness Score is above 4\n",
    "\n",
    "world_hpy[(world_hpy['GDP per capita'] < 0.5)  & (world_hpy['Score']>4)]\n"
   ]
  },
  {
   "cell_type": "code",
   "execution_count": 23,
   "metadata": {
    "id": "fsxfO5cvIy_L",
    "ExecuteTime": {
     "end_time": "2024-10-17T00:27:24.469748300Z",
     "start_time": "2024-10-17T00:27:24.451745900Z"
    }
   },
   "outputs": [
    {
     "name": "stdout",
     "output_type": "stream",
     "text": [
      "Countries where Social Support is higher than Freedom to Make Life:\n",
      "      Overall rank Country or region  Score  GDP per capita  Social support  \\\n",
      "0               1           Finland  7.632           1.305           1.592   \n",
      "1               2            Norway  7.594           1.456           1.582   \n",
      "2               3           Denmark  7.555           1.351           1.590   \n",
      "3               4           Iceland  7.495           1.343           1.644   \n",
      "4               5       Switzerland  7.487           1.420           1.549   \n",
      "..            ...               ...    ...             ...             ...   \n",
      "150           151            Rwanda  3.408           0.332           0.896   \n",
      "151           152             Yemen  3.355           0.442           1.073   \n",
      "152           153          Tanzania  3.303           0.455           0.991   \n",
      "153           154       South Sudan  3.254           0.337           0.608   \n",
      "155           156           Burundi  2.905           0.091           0.627   \n",
      "\n",
      "     Healthy life expectancy  Freedom to make life choices  Generosity  \\\n",
      "0                      0.874                         0.681       0.202   \n",
      "1                      0.861                         0.686       0.286   \n",
      "2                      0.868                         0.683       0.284   \n",
      "3                      0.914                         0.677       0.353   \n",
      "4                      0.927                         0.660       0.256   \n",
      "..                       ...                           ...         ...   \n",
      "150                    0.400                         0.636       0.200   \n",
      "151                    0.343                         0.244       0.083   \n",
      "152                    0.381                         0.481       0.270   \n",
      "153                    0.177                         0.112       0.224   \n",
      "155                    0.145                         0.065       0.149   \n",
      "\n",
      "     Perceptions of corruption  \n",
      "0                        0.393  \n",
      "1                        0.340  \n",
      "2                        0.408  \n",
      "3                        0.138  \n",
      "4                        0.357  \n",
      "..                         ...  \n",
      "150                      0.444  \n",
      "151                      0.064  \n",
      "152                      0.097  \n",
      "153                      0.106  \n",
      "155                      0.076  \n",
      "\n",
      "[154 rows x 9 columns]\n"
     ]
    }
   ],
   "source": [
    "#5 Countries where Social Support is higher than Freedom to Make Life\n",
    "map5 = world_hpy['Social support'] > world_hpy['Freedom to make life choices']\n",
    "print(\"Countries where Social Support is higher than Freedom to Make Life:\\n\", world_hpy[map5])"
   ]
  },
  {
   "cell_type": "code",
   "execution_count": 24,
   "metadata": {
    "id": "p-HrMopaIy8j",
    "ExecuteTime": {
     "end_time": "2024-10-17T00:27:30.927064800Z",
     "start_time": "2024-10-17T00:27:30.918833400Z"
    }
   },
   "outputs": [
    {
     "name": "stdout",
     "output_type": "stream",
     "text": [
      "   Country or region  Healthy life expectancy\n",
      "75         Hong Kong                    1.030\n",
      "33         Singapore                    1.008\n",
      "53             Japan                    0.988\n",
      "35             Spain                    0.965\n",
      "56       South Korea                    0.955\n",
      "46             Italy                    0.946\n",
      "4        Switzerland                    0.927\n",
      "3            Iceland                    0.914\n",
      "8             Sweden                    0.913\n",
      "9          Australia                    0.910\n",
      "57   Northern Cyprus                    0.909\n",
      "60            Cyprus                    0.909\n",
      "22            France                    0.908\n",
      "6             Canada                    0.896\n",
      "16        Luxembourg                    0.896\n"
     ]
    }
   ],
   "source": [
    "#6 Countries that are in the top 10% of Healthy Life Expectancy and list of their names\n",
    "top1_healthyy =world_hpy.nlargest(int(len(world_hpy)*0.1), 'Healthy life expectancy')\n",
    "print(top1_healthyy[['Country or region','Healthy life expectancy']]) "
   ]
  },
  {
   "cell_type": "code",
   "execution_count": 25,
   "metadata": {
    "id": "C3TofhTGIy53",
    "ExecuteTime": {
     "end_time": "2024-10-17T00:27:33.106684300Z",
     "start_time": "2024-10-17T00:27:33.087894800Z"
    }
   },
   "outputs": [
    {
     "name": "stdout",
     "output_type": "stream",
     "text": [
      "Countries where Generosity is less than Social Support:\n",
      " 0          Finland\n",
      "1           Norway\n",
      "2          Denmark\n",
      "3          Iceland\n",
      "4      Switzerland\n",
      "          ...     \n",
      "150         Rwanda\n",
      "151          Yemen\n",
      "152       Tanzania\n",
      "153    South Sudan\n",
      "155        Burundi\n",
      "Name: Country or region, Length: 155, dtype: object\n",
      "Average Happiness Score of these countries:  5.390709677419355\n"
     ]
    }
   ],
   "source": [
    "#7 Countries where Generosity is less than Social Support and the average Happiness Score of these countries\n",
    "\n",
    "Soc_gen = world_hpy[world_hpy['Social support'] > world_hpy['Generosity']]\n",
    "mean_socgen = Soc_gen['Score'].mean() \n",
    "\n",
    "print(\"Countries where Generosity is less than Social Support:\\n\",Soc_gen['Country or region'])\n",
    "print(\"Average Happiness Score of these countries: \",mean_socgen)"
   ]
  },
  {
   "cell_type": "code",
   "execution_count": 26,
   "metadata": {
    "id": "aErDzpSVIy3Q",
    "ExecuteTime": {
     "end_time": "2024-10-17T00:27:37.999291200Z",
     "start_time": "2024-10-17T00:27:37.983778900Z"
    }
   },
   "outputs": [
    {
     "name": "stdout",
     "output_type": "stream",
     "text": [
      "Countries with a Happiness Score below the median happiness score: \n",
      " 78                       Greece\n",
      "79                      Lebanon\n",
      "80                   Montenegro\n",
      "81                      Croatia\n",
      "82           Dominican Republic\n",
      "                 ...           \n",
      "151                       Yemen\n",
      "152                    Tanzania\n",
      "153                 South Sudan\n",
      "154    Central African Republic\n",
      "155                     Burundi\n",
      "Name: Country or region, Length: 78, dtype: object\n",
      "There are  78 countries with a Happiness Score below the median happiness score.\n",
      "\n",
      "Common characteristics of these countries (mean values):\n",
      "Overall rank                    117.500000\n",
      "Score                             4.449321\n",
      "GDP per capita                    0.621256\n",
      "Social support                    1.019423\n",
      "Healthy life expectancy           0.432962\n",
      "Freedom to make life choices      0.386885\n",
      "Generosity                        0.176705\n",
      "Perceptions of corruption         0.088295\n",
      "dtype: float64\n"
     ]
    }
   ],
   "source": [
    "#8 Countries with a Happiness Score below the median happiness score. How many are there, and what are the common characteristics of these countries\n",
    "med_hap = world_hpy[world_hpy['Score']< world_hpy['Score'].median()]\n",
    "\n",
    "# Displays the common characteristics by calculating mean or median for relevant columns. For common characteristics I think mean values would give us information.\n",
    "common_characteristics = med_hap[['Overall rank','Score','GDP per capita', 'Social support', 'Healthy life expectancy',\n",
    "                                  'Freedom to make life choices', 'Generosity', 'Perceptions of corruption']].mean()\n",
    "\n",
    "print(\"Countries with a Happiness Score below the median happiness score: \\n\",med_hap['Country or region'])\n",
    "print(\"There are \",len(med_hap),\"countries with a Happiness Score below the median happiness score.\\n\")\n",
    "\n",
    "print(\"Common characteristics of these countries (mean values):\")\n",
    "print(common_characteristics)"
   ]
  },
  {
   "cell_type": "code",
   "execution_count": 27,
   "metadata": {
    "id": "1veiAlVaIy05",
    "ExecuteTime": {
     "end_time": "2024-10-17T00:27:41.953069900Z",
     "start_time": "2024-10-17T00:27:41.947563500Z"
    }
   },
   "outputs": [
    {
     "data": {
      "text/plain": "     Overall rank Country or region  Score  GDP per capita  Social support  \\\n0               1           Finland  7.632           1.305           1.592   \n1               2            Norway  7.594           1.456           1.582   \n2               3           Denmark  7.555           1.351           1.590   \n3               4           Iceland  7.495           1.343           1.644   \n4               5       Switzerland  7.487           1.420           1.549   \n5               6       Netherlands  7.441           1.361           1.488   \n6               7            Canada  7.328           1.330           1.532   \n7               8       New Zealand  7.324           1.268           1.601   \n8               9            Sweden  7.314           1.355           1.501   \n9              10         Australia  7.272           1.340           1.573   \n11             12           Austria  7.139           1.341           1.504   \n12             13        Costa Rica  7.072           1.010           1.459   \n13             14           Ireland  6.977           1.448           1.583   \n14             15           Germany  6.965           1.340           1.474   \n15             16           Belgium  6.927           1.324           1.483   \n16             17        Luxembourg  6.910           1.576           1.520   \n17             18     United States  6.886           1.398           1.471   \n18             19            Israel  6.814           1.301           1.559   \n20             21    Czech Republic  6.711           1.233           1.489   \n21             22             Malta  6.627           1.270           1.525   \n22             23            France  6.489           1.293           1.466   \n26             27            Panama  6.430           1.112           1.438   \n27             28            Brazil  6.419           0.986           1.474   \n28             29         Argentina  6.388           1.073           1.468   \n30             31           Uruguay  6.379           1.093           1.459   \n31             32             Qatar  6.374           1.649           1.303   \n33             34         Singapore  6.343           1.529           1.451   \n40             41         Nicaragua  6.141           0.668           1.319   \n41             42            Poland  6.123           1.176           1.448   \n42             43           Bahrain  6.105           1.338           1.366   \n44             45            Kuwait  6.083           1.474           1.301   \n45             46          Thailand  6.072           1.016           1.417   \n47             48           Ecuador  5.973           0.889           1.330   \n50             51          Slovenia  5.948           1.219           1.506   \n51             52           Romania  5.945           1.116           1.219   \n53             54             Japan  5.915           1.294           1.462   \n54             55         Mauritius  5.891           1.090           1.387   \n55             56           Jamaica  5.890           0.819           1.493   \n57             58   Northern Cyprus  5.835           1.229           1.211   \n62             63           Estonia  5.739           1.200           1.532   \n64             65              Peru  5.663           0.934           1.249   \n75             76         Hong Kong  5.430           1.405           1.290   \n76             77          Portugal  5.410           1.188           1.429   \n79             80           Lebanon  5.358           0.965           1.179   \n85             86             China  5.246           0.989           1.142   \n94             95           Vietnam  5.103           0.715           1.365   \n115           116         Sri Lanka  4.471           0.918           1.314   \n\n     Healthy life expectancy  Freedom to make life choices  Generosity  \\\n0                      0.874                         0.681       0.202   \n1                      0.861                         0.686       0.286   \n2                      0.868                         0.683       0.284   \n3                      0.914                         0.677       0.353   \n4                      0.927                         0.660       0.256   \n5                      0.878                         0.638       0.333   \n6                      0.896                         0.653       0.321   \n7                      0.876                         0.669       0.365   \n8                      0.913                         0.659       0.285   \n9                      0.910                         0.647       0.361   \n11                     0.891                         0.617       0.242   \n12                     0.817                         0.632       0.143   \n13                     0.876                         0.614       0.307   \n14                     0.861                         0.586       0.273   \n15                     0.894                         0.583       0.188   \n16                     0.896                         0.632       0.196   \n17                     0.819                         0.547       0.291   \n18                     0.883                         0.533       0.354   \n20                     0.854                         0.543       0.064   \n21                     0.884                         0.645       0.376   \n22                     0.908                         0.520       0.098   \n26                     0.759                         0.597       0.125   \n27                     0.675                         0.493       0.110   \n28                     0.744                         0.570       0.062   \n30                     0.771                         0.625       0.130   \n31                     0.748                         0.654       0.256   \n33                     1.008                         0.631       0.261   \n40                     0.700                         0.527       0.208   \n41                     0.781                         0.546       0.108   \n42                     0.698                         0.594       0.243   \n44                     0.675                         0.554       0.167   \n45                     0.707                         0.637       0.364   \n47                     0.736                         0.556       0.114   \n50                     0.856                         0.633       0.160   \n51                     0.726                         0.528       0.088   \n53                     0.988                         0.553       0.079   \n54                     0.684                         0.584       0.245   \n55                     0.693                         0.575       0.096   \n57                     0.909                         0.495       0.179   \n62                     0.737                         0.553       0.086   \n64                     0.674                         0.530       0.092   \n75                     1.030                         0.524       0.246   \n76                     0.884                         0.562       0.055   \n79                     0.785                         0.503       0.214   \n85                     0.799                         0.597       0.029   \n94                     0.702                         0.618       0.177   \n115                    0.672                         0.585       0.307   \n\n     Perceptions of corruption  \n0                        0.393  \n1                        0.340  \n2                        0.408  \n3                        0.138  \n4                        0.357  \n5                        0.295  \n6                        0.291  \n7                        0.389  \n8                        0.383  \n9                        0.302  \n11                       0.224  \n12                       0.101  \n13                       0.306  \n14                       0.280  \n15                       0.240  \n16                       0.321  \n17                       0.133  \n18                       0.272  \n20                       0.034  \n21                       0.142  \n22                       0.176  \n26                       0.063  \n27                       0.088  \n28                       0.054  \n30                       0.155  \n31                       0.171  \n33                       0.457  \n40                       0.128  \n41                       0.064  \n42                       0.123  \n44                       0.106  \n45                       0.029  \n47                       0.120  \n50                       0.051  \n51                       0.001  \n53                       0.150  \n54                       0.050  \n55                       0.031  \n57                       0.154  \n62                       0.174  \n64                       0.034  \n75                       0.291  \n76                       0.017  \n79                       0.136  \n85                       0.103  \n94                       0.079  \n115                      0.050  ",
      "text/html": "<div>\n<style scoped>\n    .dataframe tbody tr th:only-of-type {\n        vertical-align: middle;\n    }\n\n    .dataframe tbody tr th {\n        vertical-align: top;\n    }\n\n    .dataframe thead th {\n        text-align: right;\n    }\n</style>\n<table border=\"1\" class=\"dataframe\">\n  <thead>\n    <tr style=\"text-align: right;\">\n      <th></th>\n      <th>Overall rank</th>\n      <th>Country or region</th>\n      <th>Score</th>\n      <th>GDP per capita</th>\n      <th>Social support</th>\n      <th>Healthy life expectancy</th>\n      <th>Freedom to make life choices</th>\n      <th>Generosity</th>\n      <th>Perceptions of corruption</th>\n    </tr>\n  </thead>\n  <tbody>\n    <tr>\n      <th>0</th>\n      <td>1</td>\n      <td>Finland</td>\n      <td>7.632</td>\n      <td>1.305</td>\n      <td>1.592</td>\n      <td>0.874</td>\n      <td>0.681</td>\n      <td>0.202</td>\n      <td>0.393</td>\n    </tr>\n    <tr>\n      <th>1</th>\n      <td>2</td>\n      <td>Norway</td>\n      <td>7.594</td>\n      <td>1.456</td>\n      <td>1.582</td>\n      <td>0.861</td>\n      <td>0.686</td>\n      <td>0.286</td>\n      <td>0.340</td>\n    </tr>\n    <tr>\n      <th>2</th>\n      <td>3</td>\n      <td>Denmark</td>\n      <td>7.555</td>\n      <td>1.351</td>\n      <td>1.590</td>\n      <td>0.868</td>\n      <td>0.683</td>\n      <td>0.284</td>\n      <td>0.408</td>\n    </tr>\n    <tr>\n      <th>3</th>\n      <td>4</td>\n      <td>Iceland</td>\n      <td>7.495</td>\n      <td>1.343</td>\n      <td>1.644</td>\n      <td>0.914</td>\n      <td>0.677</td>\n      <td>0.353</td>\n      <td>0.138</td>\n    </tr>\n    <tr>\n      <th>4</th>\n      <td>5</td>\n      <td>Switzerland</td>\n      <td>7.487</td>\n      <td>1.420</td>\n      <td>1.549</td>\n      <td>0.927</td>\n      <td>0.660</td>\n      <td>0.256</td>\n      <td>0.357</td>\n    </tr>\n    <tr>\n      <th>5</th>\n      <td>6</td>\n      <td>Netherlands</td>\n      <td>7.441</td>\n      <td>1.361</td>\n      <td>1.488</td>\n      <td>0.878</td>\n      <td>0.638</td>\n      <td>0.333</td>\n      <td>0.295</td>\n    </tr>\n    <tr>\n      <th>6</th>\n      <td>7</td>\n      <td>Canada</td>\n      <td>7.328</td>\n      <td>1.330</td>\n      <td>1.532</td>\n      <td>0.896</td>\n      <td>0.653</td>\n      <td>0.321</td>\n      <td>0.291</td>\n    </tr>\n    <tr>\n      <th>7</th>\n      <td>8</td>\n      <td>New Zealand</td>\n      <td>7.324</td>\n      <td>1.268</td>\n      <td>1.601</td>\n      <td>0.876</td>\n      <td>0.669</td>\n      <td>0.365</td>\n      <td>0.389</td>\n    </tr>\n    <tr>\n      <th>8</th>\n      <td>9</td>\n      <td>Sweden</td>\n      <td>7.314</td>\n      <td>1.355</td>\n      <td>1.501</td>\n      <td>0.913</td>\n      <td>0.659</td>\n      <td>0.285</td>\n      <td>0.383</td>\n    </tr>\n    <tr>\n      <th>9</th>\n      <td>10</td>\n      <td>Australia</td>\n      <td>7.272</td>\n      <td>1.340</td>\n      <td>1.573</td>\n      <td>0.910</td>\n      <td>0.647</td>\n      <td>0.361</td>\n      <td>0.302</td>\n    </tr>\n    <tr>\n      <th>11</th>\n      <td>12</td>\n      <td>Austria</td>\n      <td>7.139</td>\n      <td>1.341</td>\n      <td>1.504</td>\n      <td>0.891</td>\n      <td>0.617</td>\n      <td>0.242</td>\n      <td>0.224</td>\n    </tr>\n    <tr>\n      <th>12</th>\n      <td>13</td>\n      <td>Costa Rica</td>\n      <td>7.072</td>\n      <td>1.010</td>\n      <td>1.459</td>\n      <td>0.817</td>\n      <td>0.632</td>\n      <td>0.143</td>\n      <td>0.101</td>\n    </tr>\n    <tr>\n      <th>13</th>\n      <td>14</td>\n      <td>Ireland</td>\n      <td>6.977</td>\n      <td>1.448</td>\n      <td>1.583</td>\n      <td>0.876</td>\n      <td>0.614</td>\n      <td>0.307</td>\n      <td>0.306</td>\n    </tr>\n    <tr>\n      <th>14</th>\n      <td>15</td>\n      <td>Germany</td>\n      <td>6.965</td>\n      <td>1.340</td>\n      <td>1.474</td>\n      <td>0.861</td>\n      <td>0.586</td>\n      <td>0.273</td>\n      <td>0.280</td>\n    </tr>\n    <tr>\n      <th>15</th>\n      <td>16</td>\n      <td>Belgium</td>\n      <td>6.927</td>\n      <td>1.324</td>\n      <td>1.483</td>\n      <td>0.894</td>\n      <td>0.583</td>\n      <td>0.188</td>\n      <td>0.240</td>\n    </tr>\n    <tr>\n      <th>16</th>\n      <td>17</td>\n      <td>Luxembourg</td>\n      <td>6.910</td>\n      <td>1.576</td>\n      <td>1.520</td>\n      <td>0.896</td>\n      <td>0.632</td>\n      <td>0.196</td>\n      <td>0.321</td>\n    </tr>\n    <tr>\n      <th>17</th>\n      <td>18</td>\n      <td>United States</td>\n      <td>6.886</td>\n      <td>1.398</td>\n      <td>1.471</td>\n      <td>0.819</td>\n      <td>0.547</td>\n      <td>0.291</td>\n      <td>0.133</td>\n    </tr>\n    <tr>\n      <th>18</th>\n      <td>19</td>\n      <td>Israel</td>\n      <td>6.814</td>\n      <td>1.301</td>\n      <td>1.559</td>\n      <td>0.883</td>\n      <td>0.533</td>\n      <td>0.354</td>\n      <td>0.272</td>\n    </tr>\n    <tr>\n      <th>20</th>\n      <td>21</td>\n      <td>Czech Republic</td>\n      <td>6.711</td>\n      <td>1.233</td>\n      <td>1.489</td>\n      <td>0.854</td>\n      <td>0.543</td>\n      <td>0.064</td>\n      <td>0.034</td>\n    </tr>\n    <tr>\n      <th>21</th>\n      <td>22</td>\n      <td>Malta</td>\n      <td>6.627</td>\n      <td>1.270</td>\n      <td>1.525</td>\n      <td>0.884</td>\n      <td>0.645</td>\n      <td>0.376</td>\n      <td>0.142</td>\n    </tr>\n    <tr>\n      <th>22</th>\n      <td>23</td>\n      <td>France</td>\n      <td>6.489</td>\n      <td>1.293</td>\n      <td>1.466</td>\n      <td>0.908</td>\n      <td>0.520</td>\n      <td>0.098</td>\n      <td>0.176</td>\n    </tr>\n    <tr>\n      <th>26</th>\n      <td>27</td>\n      <td>Panama</td>\n      <td>6.430</td>\n      <td>1.112</td>\n      <td>1.438</td>\n      <td>0.759</td>\n      <td>0.597</td>\n      <td>0.125</td>\n      <td>0.063</td>\n    </tr>\n    <tr>\n      <th>27</th>\n      <td>28</td>\n      <td>Brazil</td>\n      <td>6.419</td>\n      <td>0.986</td>\n      <td>1.474</td>\n      <td>0.675</td>\n      <td>0.493</td>\n      <td>0.110</td>\n      <td>0.088</td>\n    </tr>\n    <tr>\n      <th>28</th>\n      <td>29</td>\n      <td>Argentina</td>\n      <td>6.388</td>\n      <td>1.073</td>\n      <td>1.468</td>\n      <td>0.744</td>\n      <td>0.570</td>\n      <td>0.062</td>\n      <td>0.054</td>\n    </tr>\n    <tr>\n      <th>30</th>\n      <td>31</td>\n      <td>Uruguay</td>\n      <td>6.379</td>\n      <td>1.093</td>\n      <td>1.459</td>\n      <td>0.771</td>\n      <td>0.625</td>\n      <td>0.130</td>\n      <td>0.155</td>\n    </tr>\n    <tr>\n      <th>31</th>\n      <td>32</td>\n      <td>Qatar</td>\n      <td>6.374</td>\n      <td>1.649</td>\n      <td>1.303</td>\n      <td>0.748</td>\n      <td>0.654</td>\n      <td>0.256</td>\n      <td>0.171</td>\n    </tr>\n    <tr>\n      <th>33</th>\n      <td>34</td>\n      <td>Singapore</td>\n      <td>6.343</td>\n      <td>1.529</td>\n      <td>1.451</td>\n      <td>1.008</td>\n      <td>0.631</td>\n      <td>0.261</td>\n      <td>0.457</td>\n    </tr>\n    <tr>\n      <th>40</th>\n      <td>41</td>\n      <td>Nicaragua</td>\n      <td>6.141</td>\n      <td>0.668</td>\n      <td>1.319</td>\n      <td>0.700</td>\n      <td>0.527</td>\n      <td>0.208</td>\n      <td>0.128</td>\n    </tr>\n    <tr>\n      <th>41</th>\n      <td>42</td>\n      <td>Poland</td>\n      <td>6.123</td>\n      <td>1.176</td>\n      <td>1.448</td>\n      <td>0.781</td>\n      <td>0.546</td>\n      <td>0.108</td>\n      <td>0.064</td>\n    </tr>\n    <tr>\n      <th>42</th>\n      <td>43</td>\n      <td>Bahrain</td>\n      <td>6.105</td>\n      <td>1.338</td>\n      <td>1.366</td>\n      <td>0.698</td>\n      <td>0.594</td>\n      <td>0.243</td>\n      <td>0.123</td>\n    </tr>\n    <tr>\n      <th>44</th>\n      <td>45</td>\n      <td>Kuwait</td>\n      <td>6.083</td>\n      <td>1.474</td>\n      <td>1.301</td>\n      <td>0.675</td>\n      <td>0.554</td>\n      <td>0.167</td>\n      <td>0.106</td>\n    </tr>\n    <tr>\n      <th>45</th>\n      <td>46</td>\n      <td>Thailand</td>\n      <td>6.072</td>\n      <td>1.016</td>\n      <td>1.417</td>\n      <td>0.707</td>\n      <td>0.637</td>\n      <td>0.364</td>\n      <td>0.029</td>\n    </tr>\n    <tr>\n      <th>47</th>\n      <td>48</td>\n      <td>Ecuador</td>\n      <td>5.973</td>\n      <td>0.889</td>\n      <td>1.330</td>\n      <td>0.736</td>\n      <td>0.556</td>\n      <td>0.114</td>\n      <td>0.120</td>\n    </tr>\n    <tr>\n      <th>50</th>\n      <td>51</td>\n      <td>Slovenia</td>\n      <td>5.948</td>\n      <td>1.219</td>\n      <td>1.506</td>\n      <td>0.856</td>\n      <td>0.633</td>\n      <td>0.160</td>\n      <td>0.051</td>\n    </tr>\n    <tr>\n      <th>51</th>\n      <td>52</td>\n      <td>Romania</td>\n      <td>5.945</td>\n      <td>1.116</td>\n      <td>1.219</td>\n      <td>0.726</td>\n      <td>0.528</td>\n      <td>0.088</td>\n      <td>0.001</td>\n    </tr>\n    <tr>\n      <th>53</th>\n      <td>54</td>\n      <td>Japan</td>\n      <td>5.915</td>\n      <td>1.294</td>\n      <td>1.462</td>\n      <td>0.988</td>\n      <td>0.553</td>\n      <td>0.079</td>\n      <td>0.150</td>\n    </tr>\n    <tr>\n      <th>54</th>\n      <td>55</td>\n      <td>Mauritius</td>\n      <td>5.891</td>\n      <td>1.090</td>\n      <td>1.387</td>\n      <td>0.684</td>\n      <td>0.584</td>\n      <td>0.245</td>\n      <td>0.050</td>\n    </tr>\n    <tr>\n      <th>55</th>\n      <td>56</td>\n      <td>Jamaica</td>\n      <td>5.890</td>\n      <td>0.819</td>\n      <td>1.493</td>\n      <td>0.693</td>\n      <td>0.575</td>\n      <td>0.096</td>\n      <td>0.031</td>\n    </tr>\n    <tr>\n      <th>57</th>\n      <td>58</td>\n      <td>Northern Cyprus</td>\n      <td>5.835</td>\n      <td>1.229</td>\n      <td>1.211</td>\n      <td>0.909</td>\n      <td>0.495</td>\n      <td>0.179</td>\n      <td>0.154</td>\n    </tr>\n    <tr>\n      <th>62</th>\n      <td>63</td>\n      <td>Estonia</td>\n      <td>5.739</td>\n      <td>1.200</td>\n      <td>1.532</td>\n      <td>0.737</td>\n      <td>0.553</td>\n      <td>0.086</td>\n      <td>0.174</td>\n    </tr>\n    <tr>\n      <th>64</th>\n      <td>65</td>\n      <td>Peru</td>\n      <td>5.663</td>\n      <td>0.934</td>\n      <td>1.249</td>\n      <td>0.674</td>\n      <td>0.530</td>\n      <td>0.092</td>\n      <td>0.034</td>\n    </tr>\n    <tr>\n      <th>75</th>\n      <td>76</td>\n      <td>Hong Kong</td>\n      <td>5.430</td>\n      <td>1.405</td>\n      <td>1.290</td>\n      <td>1.030</td>\n      <td>0.524</td>\n      <td>0.246</td>\n      <td>0.291</td>\n    </tr>\n    <tr>\n      <th>76</th>\n      <td>77</td>\n      <td>Portugal</td>\n      <td>5.410</td>\n      <td>1.188</td>\n      <td>1.429</td>\n      <td>0.884</td>\n      <td>0.562</td>\n      <td>0.055</td>\n      <td>0.017</td>\n    </tr>\n    <tr>\n      <th>79</th>\n      <td>80</td>\n      <td>Lebanon</td>\n      <td>5.358</td>\n      <td>0.965</td>\n      <td>1.179</td>\n      <td>0.785</td>\n      <td>0.503</td>\n      <td>0.214</td>\n      <td>0.136</td>\n    </tr>\n    <tr>\n      <th>85</th>\n      <td>86</td>\n      <td>China</td>\n      <td>5.246</td>\n      <td>0.989</td>\n      <td>1.142</td>\n      <td>0.799</td>\n      <td>0.597</td>\n      <td>0.029</td>\n      <td>0.103</td>\n    </tr>\n    <tr>\n      <th>94</th>\n      <td>95</td>\n      <td>Vietnam</td>\n      <td>5.103</td>\n      <td>0.715</td>\n      <td>1.365</td>\n      <td>0.702</td>\n      <td>0.618</td>\n      <td>0.177</td>\n      <td>0.079</td>\n    </tr>\n    <tr>\n      <th>115</th>\n      <td>116</td>\n      <td>Sri Lanka</td>\n      <td>4.471</td>\n      <td>0.918</td>\n      <td>1.314</td>\n      <td>0.672</td>\n      <td>0.585</td>\n      <td>0.307</td>\n      <td>0.050</td>\n    </tr>\n  </tbody>\n</table>\n</div>"
     },
     "execution_count": 27,
     "metadata": {},
     "output_type": "execute_result"
    }
   ],
   "source": [
    "#9.1 Filter countries where both Freedom to Make Life Choices and Healthy Life Expectancy are above the global median. How many such countries are there\n",
    "world_hpy[(world_hpy['Freedom to make life choices']> world_hpy['Freedom to make life choices'].median()) & \n",
    "          (world_hpy['Healthy life expectancy']> world_hpy['Healthy life expectancy'].median())]\n",
    "\n"
   ]
  },
  {
   "cell_type": "code",
   "execution_count": 28,
   "outputs": [
    {
     "name": "stdout",
     "output_type": "stream",
     "text": [
      "There are  47  countries where both Freedom to Make Life Choices and Healthy Life Expectancy are above the global median.\n"
     ]
    }
   ],
   "source": [
    "#9.2 Number of the countries where both Freedom to Make Life Choices and Healthy Life Expectancy are above the global median\n",
    "map6 = len(world_hpy[(world_hpy['Freedom to make life choices']> world_hpy['Freedom to make life choices'].median()) & (world_hpy['Healthy life expectancy']> world_hpy['Healthy life expectancy'].median())])\n",
    "\n",
    "print(\"There are \",map6,\" countries where both Freedom to Make Life Choices and Healthy Life Expectancy are above the global median.\")"
   ],
   "metadata": {
    "collapsed": false,
    "ExecuteTime": {
     "end_time": "2024-10-17T00:27:44.062441100Z",
     "start_time": "2024-10-17T00:27:44.044847300Z"
    }
   }
  },
  {
   "cell_type": "markdown",
   "source": [
    "# **PART- 2**\n",
    "\n",
    "**Set of Questions on the passenger_demographics.csv and passenger_survival.csv** **(25 Pts)**\n",
    "\n",
    "**Dataset Path: \"Data/passenger_demographics.csv\" and \"Data/passenger_survival.csv\"**"
   ],
   "metadata": {
    "collapsed": false
   }
  },
  {
   "cell_type": "markdown",
   "source": [
    "# Q1. Data Merging and Consistency Checking\n",
    "\n",
    "\n",
    "1. Merge the datasets on PassengerId into a single DataFrame. How many rows are there in the merged dataset? **(3 Pts)**\n",
    "2. Perform a consistency check for duplicated rows. After merging, check for any duplicated rows in the merged dataset and provide a summary of your findings. Provide the details (average, mean, etc.) of each feature in the merged DataFrame. **(3 Pts)**\n",
    "3. Determine the survival rate for each passenger class and gender. Analyze how the survival rate varies among different classes (Pclass) and genders. **(3 Pts)**\n",
    "4. Analyze the effect of age on survival probability. Determine whether age significantly affects the probability of survival. Use statistical techniques to explore this relationship.(use binning) **(4 Pts)**\n",
    "5. Investigate the impact of family size on survival. Determine if family size (based on the number of siblings/spouses and parents/children aboard) has any correlation with survival. **(4 Pts)**\n",
    "6. Determine the most common embarkation point among survivors. Find out which embarkation point (C, Q, or S) had the highest survival rate. **(4 Pts)**\n",
    "7. Evaluate the correlation between Fare and Survival. Determine if there is a correlation between the fare paid and the survival status of the passengers. **(4 Pts)**"
   ],
   "metadata": {
    "collapsed": false
   }
  },
  {
   "cell_type": "code",
   "execution_count": 29,
   "outputs": [
    {
     "name": "stdout",
     "output_type": "stream",
     "text": [
      "The number of rows in the merged dataset is:  891\n"
     ]
    }
   ],
   "source": [
    "#1 Merges the datasets on PassengerId into a single DataFrame and prints the number of rows in the merged dataset.\n",
    "pass_dmg = pd.read_csv('Data/passenger_demographics.csv')\n",
    "pass_srv = pd.read_csv('Data/passenger_survival.csv')\n",
    "\n",
    "pass_merged_df = pd.merge(pass_srv, pass_dmg, on ='PassengerId')\n",
    "print(\"The number of rows in the merged dataset is: \",len(pass_merged_df))"
   ],
   "metadata": {
    "collapsed": false,
    "ExecuteTime": {
     "end_time": "2024-10-17T00:29:15.905567900Z",
     "start_time": "2024-10-17T00:29:15.889469300Z"
    }
   }
  },
  {
   "cell_type": "code",
   "execution_count": 30,
   "outputs": [
    {
     "name": "stdout",
     "output_type": "stream",
     "text": [
      "Number of duplicate rows before removal: 0\n",
      "Number of duplicate rows after removal: 0\n"
     ]
    },
    {
     "data": {
      "text/plain": "(891, 9)"
     },
     "execution_count": 30,
     "metadata": {},
     "output_type": "execute_result"
    }
   ],
   "source": [
    "#2.1 Consistency check for duplicated rows.\n",
    "\n",
    "num_duplicates_before = pass_merged_df.duplicated().sum()\n",
    "pass_merged_df.drop_duplicates(inplace=True)\n",
    "# Inplace=True tells the function to modify the ted_main DataFrame directly, without creating a new copy. \n",
    "num_duplicates_after = pass_merged_df.duplicated().sum()\n",
    "\n",
    "print(\"Number of duplicate rows before removal:\", num_duplicates_before)\n",
    "print(\"Number of duplicate rows after removal:\", num_duplicates_after) \n",
    "\n",
    "pass_merged_df.shape "
   ],
   "metadata": {
    "collapsed": false,
    "ExecuteTime": {
     "end_time": "2024-10-17T00:29:19.037012400Z",
     "start_time": "2024-10-17T00:29:19.019827500Z"
    }
   }
  },
  {
   "cell_type": "code",
   "execution_count": 31,
   "outputs": [
    {
     "data": {
      "text/plain": "        PassengerId    Survived        Fare Embarked      Pclass   Sex  \\\ncount    891.000000  891.000000  891.000000      889  891.000000   891   \nunique          NaN         NaN         NaN        3         NaN     2   \ntop             NaN         NaN         NaN        S         NaN  male   \nfreq            NaN         NaN         NaN      644         NaN   577   \nmean     446.000000    0.383838   32.204208      NaN    2.308642   NaN   \nstd      257.353842    0.486592   49.693429      NaN    0.836071   NaN   \nmin        1.000000    0.000000    0.000000      NaN    1.000000   NaN   \n25%      223.500000    0.000000    7.910400      NaN    2.000000   NaN   \n50%      446.000000    0.000000   14.454200      NaN    3.000000   NaN   \n75%      668.500000    1.000000   31.000000      NaN    3.000000   NaN   \nmax      891.000000    1.000000  512.329200      NaN    3.000000   NaN   \n\n               Age       SibSp       Parch  \ncount   714.000000  891.000000  891.000000  \nunique         NaN         NaN         NaN  \ntop            NaN         NaN         NaN  \nfreq           NaN         NaN         NaN  \nmean     29.699118    0.523008    0.381594  \nstd      14.526497    1.102743    0.806057  \nmin       0.420000    0.000000    0.000000  \n25%      20.125000    0.000000    0.000000  \n50%      28.000000    0.000000    0.000000  \n75%      38.000000    1.000000    0.000000  \nmax      80.000000    8.000000    6.000000  ",
      "text/html": "<div>\n<style scoped>\n    .dataframe tbody tr th:only-of-type {\n        vertical-align: middle;\n    }\n\n    .dataframe tbody tr th {\n        vertical-align: top;\n    }\n\n    .dataframe thead th {\n        text-align: right;\n    }\n</style>\n<table border=\"1\" class=\"dataframe\">\n  <thead>\n    <tr style=\"text-align: right;\">\n      <th></th>\n      <th>PassengerId</th>\n      <th>Survived</th>\n      <th>Fare</th>\n      <th>Embarked</th>\n      <th>Pclass</th>\n      <th>Sex</th>\n      <th>Age</th>\n      <th>SibSp</th>\n      <th>Parch</th>\n    </tr>\n  </thead>\n  <tbody>\n    <tr>\n      <th>count</th>\n      <td>891.000000</td>\n      <td>891.000000</td>\n      <td>891.000000</td>\n      <td>889</td>\n      <td>891.000000</td>\n      <td>891</td>\n      <td>714.000000</td>\n      <td>891.000000</td>\n      <td>891.000000</td>\n    </tr>\n    <tr>\n      <th>unique</th>\n      <td>NaN</td>\n      <td>NaN</td>\n      <td>NaN</td>\n      <td>3</td>\n      <td>NaN</td>\n      <td>2</td>\n      <td>NaN</td>\n      <td>NaN</td>\n      <td>NaN</td>\n    </tr>\n    <tr>\n      <th>top</th>\n      <td>NaN</td>\n      <td>NaN</td>\n      <td>NaN</td>\n      <td>S</td>\n      <td>NaN</td>\n      <td>male</td>\n      <td>NaN</td>\n      <td>NaN</td>\n      <td>NaN</td>\n    </tr>\n    <tr>\n      <th>freq</th>\n      <td>NaN</td>\n      <td>NaN</td>\n      <td>NaN</td>\n      <td>644</td>\n      <td>NaN</td>\n      <td>577</td>\n      <td>NaN</td>\n      <td>NaN</td>\n      <td>NaN</td>\n    </tr>\n    <tr>\n      <th>mean</th>\n      <td>446.000000</td>\n      <td>0.383838</td>\n      <td>32.204208</td>\n      <td>NaN</td>\n      <td>2.308642</td>\n      <td>NaN</td>\n      <td>29.699118</td>\n      <td>0.523008</td>\n      <td>0.381594</td>\n    </tr>\n    <tr>\n      <th>std</th>\n      <td>257.353842</td>\n      <td>0.486592</td>\n      <td>49.693429</td>\n      <td>NaN</td>\n      <td>0.836071</td>\n      <td>NaN</td>\n      <td>14.526497</td>\n      <td>1.102743</td>\n      <td>0.806057</td>\n    </tr>\n    <tr>\n      <th>min</th>\n      <td>1.000000</td>\n      <td>0.000000</td>\n      <td>0.000000</td>\n      <td>NaN</td>\n      <td>1.000000</td>\n      <td>NaN</td>\n      <td>0.420000</td>\n      <td>0.000000</td>\n      <td>0.000000</td>\n    </tr>\n    <tr>\n      <th>25%</th>\n      <td>223.500000</td>\n      <td>0.000000</td>\n      <td>7.910400</td>\n      <td>NaN</td>\n      <td>2.000000</td>\n      <td>NaN</td>\n      <td>20.125000</td>\n      <td>0.000000</td>\n      <td>0.000000</td>\n    </tr>\n    <tr>\n      <th>50%</th>\n      <td>446.000000</td>\n      <td>0.000000</td>\n      <td>14.454200</td>\n      <td>NaN</td>\n      <td>3.000000</td>\n      <td>NaN</td>\n      <td>28.000000</td>\n      <td>0.000000</td>\n      <td>0.000000</td>\n    </tr>\n    <tr>\n      <th>75%</th>\n      <td>668.500000</td>\n      <td>1.000000</td>\n      <td>31.000000</td>\n      <td>NaN</td>\n      <td>3.000000</td>\n      <td>NaN</td>\n      <td>38.000000</td>\n      <td>1.000000</td>\n      <td>0.000000</td>\n    </tr>\n    <tr>\n      <th>max</th>\n      <td>891.000000</td>\n      <td>1.000000</td>\n      <td>512.329200</td>\n      <td>NaN</td>\n      <td>3.000000</td>\n      <td>NaN</td>\n      <td>80.000000</td>\n      <td>8.000000</td>\n      <td>6.000000</td>\n    </tr>\n  </tbody>\n</table>\n</div>"
     },
     "execution_count": 31,
     "metadata": {},
     "output_type": "execute_result"
    }
   ],
   "source": [
    "#2.2  A summary of the findings and their details (average, mean, etc.) of each feature in the merged DataFrame .\n",
    "pass_merged_df.describe(include='all')"
   ],
   "metadata": {
    "collapsed": false,
    "ExecuteTime": {
     "end_time": "2024-10-17T00:29:45.704254200Z",
     "start_time": "2024-10-17T00:29:45.688058900Z"
    }
   }
  },
  {
   "cell_type": "code",
   "execution_count": 32,
   "metadata": {
    "id": "vHLFSeDKYuVG",
    "ExecuteTime": {
     "end_time": "2024-10-17T00:30:00.306237400Z",
     "start_time": "2024-10-17T00:30:00.289827400Z"
    }
   },
   "outputs": [
    {
     "name": "stdout",
     "output_type": "stream",
     "text": [
      "Pclass  Sex   \n",
      "1       female    0.968085\n",
      "        male      0.368852\n",
      "2       female    0.921053\n",
      "        male      0.157407\n",
      "3       female    0.500000\n",
      "        male      0.135447\n",
      "Name: Survived, dtype: float64\n"
     ]
    }
   ],
   "source": [
    "#3 Determines the survival rate for each passenger class and gender. Analyzes how the survival rate varies among different classes (Pclass) and genders by comparing their mean values.\n",
    "\n",
    "print(pass_merged_df.groupby([\"Pclass\", \"Sex\"])[\"Survived\"].mean()) \n",
    "# Pclass 1 has a higher survival rate than the other classes.\n",
    "# Females also has a higher survival rate compared to males."
   ]
  },
  {
   "cell_type": "code",
   "execution_count": 33,
   "metadata": {
    "id": "3nrS1BgFYuQJ",
    "ExecuteTime": {
     "end_time": "2024-10-17T00:30:18.148905100Z",
     "start_time": "2024-10-17T00:30:18.140786600Z"
    }
   },
   "outputs": [
    {
     "name": "stdout",
     "output_type": "stream",
     "text": [
      "         Survived\n",
      "Age_Bin          \n",
      "0-17     0.503597\n",
      "18-29    0.355556\n",
      "30-44    0.425743\n",
      "45-59    0.407407\n",
      "60+      0.227273\n"
     ]
    },
    {
     "name": "stderr",
     "output_type": "stream",
     "text": [
      "C:\\Users\\Seyma\\AppData\\Local\\Temp\\ipykernel_16216\\1862172566.py:7: FutureWarning: The default of observed=False is deprecated and will be changed to True in a future version of pandas. Pass observed=False to retain current behavior or observed=True to adopt the future default and silence this warning.\n",
      "  survival_by_age_bn = pass_merged_df.groupby('Age_Bin')[['Survived']].mean()\n"
     ]
    }
   ],
   "source": [
    "#4 Analyzes the effect of age on survival probability by using binning method.\n",
    "\n",
    "# Creates age bins\n",
    "age_bins = [0, 18, 30, 45, 60, 100]\n",
    "pass_merged_df['Age_Bin'] = pd.cut(pass_merged_df['Age'], bins=age_bins, labels=['0-17', '18-29', '30-44', '45-59', '60+'])\n",
    "\n",
    "survival_by_age_bn = pass_merged_df.groupby('Age_Bin')[['Survived']].mean()\n",
    "print(survival_by_age_bn)\n",
    "\n",
    "# The survival rate generally decreases with age."
   ]
  },
  {
   "cell_type": "code",
   "execution_count": 34,
   "metadata": {
    "id": "xlco8hajYuIX",
    "ExecuteTime": {
     "end_time": "2024-10-17T00:30:54.946665500Z",
     "start_time": "2024-10-17T00:30:54.938817800Z"
    }
   },
   "outputs": [
    {
     "data": {
      "text/plain": "FamilySize\n0     0.303538\n1     0.552795\n2     0.578431\n3     0.724138\n4     0.200000\n5     0.136364\n6     0.333333\n7     0.000000\n10    0.000000\nName: Survived, dtype: float64"
     },
     "execution_count": 34,
     "metadata": {},
     "output_type": "execute_result"
    }
   ],
   "source": [
    "#5 Investigates the impact of family size on survival. \n",
    "\n",
    "pass_merged_df['FamilySize'] = pass_merged_df['SibSp'] + pass_merged_df['Parch']\n",
    "pass_merged_df.groupby('FamilySize')[\"Survived\"].mean()\n",
    "\n",
    "# Larger families tend to have lower survival rates."
   ]
  },
  {
   "cell_type": "code",
   "execution_count": 35,
   "metadata": {
    "id": "RdPyq5mFYuCT",
    "ExecuteTime": {
     "end_time": "2024-10-17T00:31:19.044324900Z",
     "start_time": "2024-10-17T00:31:19.029815Z"
    }
   },
   "outputs": [
    {
     "name": "stdout",
     "output_type": "stream",
     "text": [
      "Embarkation point ' C ' had the highest survival rate.\n"
     ]
    }
   ],
   "source": [
    "#6 Determines the most common embarkation point among survivors. Find outs which embarkation point (C, Q, or S) had the highest survival rate. \n",
    "\n",
    "emb_point = pass_merged_df.groupby('Embarked')[\"Survived\"].mean()\n",
    "highest_survival_point = emb_point.idxmax()\n",
    "print(\"Embarkation point '\",highest_survival_point,\"' had the highest survival rate.\") "
   ]
  },
  {
   "cell_type": "code",
   "execution_count": 36,
   "metadata": {
    "id": "vH_UEV-QYt5x",
    "ExecuteTime": {
     "end_time": "2024-10-17T00:32:24.091365400Z",
     "start_time": "2024-10-17T00:32:24.075601Z"
    }
   },
   "outputs": [
    {
     "name": "stdout",
     "output_type": "stream",
     "text": [
      "          Survived\n",
      "Fare_Bin          \n",
      "0-99      0.366950\n",
      "100-199   0.757576\n",
      "200-299   0.647059\n",
      "300-399        NaN\n",
      "400-499        NaN\n",
      "500+      1.000000\n",
      "Correlation between Fare and Survival: 0.25730652238496227\n"
     ]
    },
    {
     "name": "stderr",
     "output_type": "stream",
     "text": [
      "C:\\Users\\Seyma\\AppData\\Local\\Temp\\ipykernel_16216\\507810218.py:7: FutureWarning: The default of observed=False is deprecated and will be changed to True in a future version of pandas. Pass observed=False to retain current behavior or observed=True to adopt the future default and silence this warning.\n",
      "  survival_by_fare_bn = pass_merged_df.groupby('Fare_Bin')[['Survived']].mean()\n"
     ]
    }
   ],
   "source": [
    "#7 Evaluates the correlation between Fare and Survival.\n",
    " \n",
    "# Creates fare bins\n",
    "fare_bins = [0, 100, 200, 300, 400, 500, 600]\n",
    "pass_merged_df['Fare_Bin'] = pd.cut(pass_merged_df['Fare'], bins=fare_bins, labels=['0-99', '100-199', '200-299', '300-399', '400-499', '500+'])\n",
    "\n",
    "survival_by_fare_bn = pass_merged_df.groupby('Fare_Bin')[['Survived']].mean()\n",
    "print(survival_by_fare_bn) \n",
    "\n",
    "correlation = pass_merged_df['Fare'].corr(pass_merged_df['Survived'])\n",
    "print(\"Correlation between Fare and Survival:\", correlation)\n",
    "\n",
    "# There seems to be a little correlation between fares and survive chanses. "
   ]
  },
  {
   "cell_type": "markdown",
   "metadata": {
    "id": "_3suDJgQZm01"
   },
   "source": [
    "# **PART- 3**\n",
    "\n",
    "**Set of Questions on SQL - using sqlite3 library!**\n",
    "\n",
    "**Dataset Path: \"Data/supermarket_sales.csv\"**"
   ]
  },
  {
   "cell_type": "markdown",
   "metadata": {
    "id": "DOZouTkQh-aa"
   },
   "source": [
    "\n",
    "The Supermarket Sales Dataset is a comprehensive dataset designed to provide insights into the sales performance of a supermarket.\n",
    "\n",
    "We want to store this data in a relational database, with the following table schemas:"
   ]
  },
  {
   "cell_type": "markdown",
   "metadata": {
    "id": "8g3KN0RagrO4"
   },
   "source": [
    "# Tables\n",
    "\n",
    "## 1. Branches Table\n",
    "\n",
    "| Column   | Type  | Key      | Description                              |\n",
    "|----------|-------|----------|------------------------------------------|\n",
    "| BranchID | INTEGER  | PRIMARY  | Unique identifier for each branch        |\n",
    "| Branch | TEXT  |            |    Name of the supermarket branch        |\n",
    "| City     | TEXT  |          | City where the branch is located         |\n",
    "\n",
    "\n",
    "\n",
    "## 2. Products Table\n",
    "\n",
    "| Column      | Type  | Key      | Description                               |\n",
    "|-------------|-------|----------|-------------------------------------------|\n",
    "| ProductID | INTEGER  | PRIMARY  | Unique identifier for each product line   |\n",
    "| ProductLine | TEXT  |          | Category of the product |\n",
    "\n",
    "\n",
    "\n",
    "## 3. Orders Table\n",
    "\n",
    "| Column        | Type  | Key      | Description                                    |\n",
    "|---------------|-------|----------|------------------------------------------------|\n",
    "| OrderID       | TEXT  | PRIMARY  | Unique identifier for each order               |\n",
    "| BranchID      | INTEGER  |   FK       | Identifier for the branch of the order    |\n",
    "| ProductID   | INTEGER  |      FK    | Identifier linking to Products table ordered                      |\n",
    "| Quantity      | INTEGER |        | Number of units ordered                        |\n",
    "| UnitPrice   | REAL  |          | Price per unit of the product             |Total         | REAL  |          | Total sales value for the order               |\n",
    "| OrderDate     | TEXT  |          | Date when the order was placed                |\n",
    "| PaymentMethod | TEXT  |          | Method used for payment                       |\n",
    "| CustomerType  | TEXT  |          | Type of customer (e.g., Member, Normal)     |\n",
    "| Gender        | TEXT  |          | Gender of the customer                        |\n",
    "\n"
   ]
  },
  {
   "cell_type": "markdown",
   "metadata": {
    "id": "nWvMCCPLi2W0"
   },
   "source": [
    "Summary of Table Structures\n",
    "\n",
    "* Branches Table contains information about different supermarket branches.\n",
    "\n",
    "* Products Table details the various products available for purchase.\n",
    "* Orders Table records the transactions made, linking products and branches to specific purchases.\n"
   ]
  },
  {
   "cell_type": "markdown",
   "metadata": {
    "id": "jqFWg0pzhL9L"
   },
   "source": [
    "# **Questions** **(35 Pts)**\n",
    "\n",
    "1. Read the csv file and create this DB **(10 Pts)**\n",
    "2. Write a query to find the top 3 product lines with the highest total quantity sold, using a LIMIT statement. **(4 Pts)**\n",
    "3. Find the total revenue generated for each branch by product line **(4 Pts)**\n",
    "4. Find the total sales for each branch **(3 Pts)**\n",
    "5. Determine the number of orders placed by each gender **(3 Pts)**\n",
    "6. List the product lines sold in each branch and the number of orders **(4 Pts)**\n",
    "7. Find the highest quantity sold for a single order and the corresponding product line **(4 Pts)**\n",
    "8. Check for duplicated invoices **(3 Pts)**\n"
   ]
  },
  {
   "cell_type": "code",
   "execution_count": 3,
   "metadata": {
    "id": "4Z4tAiQHlqnF",
    "ExecuteTime": {
     "end_time": "2024-10-17T00:01:48.932011400Z",
     "start_time": "2024-10-17T00:01:48.836807800Z"
    }
   },
   "outputs": [],
   "source": [
    "#1 Reads the csv file and creates a DB.\n",
    "\n",
    "\n",
    "# Creates the Branches table\n",
    "df = pd.read_csv(\"Data/supermarket_sales.csv\")\n",
    "branches_df = df[['Branch', 'City']].drop_duplicates().reset_index(drop=True) \n",
    "branches_df['BranchID'] = range(1,len(branches_df)+1)\n",
    "\n",
    "conn =sqlite3.connect(\"Data/db_tables.db\")\n",
    "c = conn.cursor() \n",
    "\n",
    "c.execute(\"DROP TABLE IF EXISTS Branches\")\n",
    "c.execute(\"\"\"CREATE TABLE Branches(\n",
    "BranchID INTEGER,\n",
    "Branch TEXT NOT NULL,\n",
    "City TEXT NOT NULL,\n",
    "PRIMARY KEY (BranchID))\"\"\")\n",
    "\n",
    "branches_df.to_sql(\"Branches\", conn, index=False, if_exists='append')\n",
    "# The index=False argument prevents the DataFrame index from being added as a column in the table\n",
    "\n",
    "\n",
    "# Creates the Products table \n",
    "products_df = df[['Product line']].drop_duplicates().reset_index(drop=True)\n",
    "products_df = products_df.rename(columns={'Product line': 'ProductLine'})  \n",
    "products_df['ProductID'] = range(1, len(products_df)+1)\n",
    "\n",
    "conn1 =sqlite3.connect(\"Data/db_tables.db\")\n",
    "c1 = conn1.cursor() \n",
    "\n",
    "c1.execute(\"DROP TABLE IF EXISTS Products\")\n",
    "c1.execute(\"\"\"CREATE TABLE Products(\n",
    "ProductID INTEGER,\n",
    "ProductLine TEXT NOT NULL,\n",
    "PRIMARY KEY (ProductID))\"\"\")\n",
    "\n",
    "products_df.to_sql(\"Products\", conn1, index=False, if_exists='append')\n",
    "\n",
    "\n",
    "# Creates the Orders table \n",
    "orders_df = df[['Invoice ID', 'Branch', 'Product line', 'Quantity', 'Unit price', 'Date', 'Payment', 'Customer type', 'Gender', 'Total' ]].drop_duplicates().reset_index(drop=True)\n",
    "orders_df = orders_df.rename(columns={'Invoice ID': 'OrderID',\n",
    "                                      'Product line': 'ProductLine',\n",
    "                                      'Unit price': 'UnitPrice',\n",
    "                                      'Date': 'OrderDate',\n",
    "                                      'Payment': 'PaymentMethod',\n",
    "                                      'Customer type': 'CustomerType'})  \n",
    "\n",
    "# Adds BranchID and ProductID by mapping\n",
    "orders_df = orders_df.merge(branches_df[['Branch', 'BranchID']])\n",
    "orders_df = orders_df.merge(products_df[['ProductLine', 'ProductID']]) \n",
    "\n",
    "# Drops the unnecessary columns\n",
    "orders_df = orders_df.drop(columns=['ProductLine'])\n",
    "orders_df = orders_df.drop(columns=['Branch'])\n",
    "\n",
    "conn2 =sqlite3.connect(\"Data/db_tables.db\")\n",
    "c2 = conn2.cursor() \n",
    "\n",
    "c2.execute(\"DROP TABLE IF EXISTS Orders\")\n",
    "c2.execute(\"\"\"CREATE TABLE Orders (\n",
    "    OrderID TEXT,\n",
    "    BranchID INTEGER,\n",
    "    ProductID INTEGER,\n",
    "    Quantity INTEGER,\n",
    "    UnitPrice REAL,\n",
    "    OrderDate TEXT,\n",
    "    PaymentMethod TEXT,\n",
    "    CustomerType TEXT,\n",
    "    Gender TEXT,\n",
    "    Total REAL,\n",
    "    PRIMARY KEY (OrderID))\"\"\")\n",
    " \n",
    "orders_df.to_sql(\"Orders\", conn2, index=False, if_exists='append')\n",
    "\n",
    "conn.close()\n",
    "conn1.close()\n",
    "conn2.close()"
   ]
  },
  {
   "cell_type": "code",
   "execution_count": 14,
   "outputs": [],
   "source": [
    "#2 This is a query to find the top 3 product lines with the highest total quantity sold, using a LIMIT statement.\n",
    "\n",
    "conn3 =sqlite3.connect(\"Data/db_tables.db\")\n",
    "c3 = conn3.cursor() \n",
    "\n",
    "c3.execute(\"\"\" SELECT P.ProductLine, SUM(O.Quantity) AS TotalQuantity\n",
    "FROM Products P, Orders O\n",
    "JOIN Orders ON P.ProductID = O.ProductID \n",
    "GROUP BY P.ProductLine \n",
    "ORDER BY TotalQuantity DESC \n",
    "LIMIT 3;\n",
    "\"\"\")\n",
    "\n",
    "conn3.close()"
   ],
   "metadata": {
    "collapsed": false,
    "ExecuteTime": {
     "end_time": "2024-10-16T23:55:13.434187700Z",
     "start_time": "2024-10-16T23:55:13.128116600Z"
    }
   }
  },
  {
   "cell_type": "code",
   "execution_count": 15,
   "metadata": {
    "id": "qUjEH_LvlqfN",
    "ExecuteTime": {
     "end_time": "2024-10-16T23:55:14.459068300Z",
     "start_time": "2024-10-16T23:55:14.451438300Z"
    }
   },
   "outputs": [],
   "source": [
    "#3 Find sthe total revenue(total gelir) generated for each branch by product line\n",
    "\n",
    "conn4 =sqlite3.connect(\"Data/db_tables.db\")\n",
    "c4 = conn4.cursor()\n",
    "\n",
    "c4.execute(\"\"\" SELECT B.Branch, P.ProductLine, SUM(O.Total) AS Revenue\n",
    "FROM Orders O \n",
    "JOIN Branches B ON B.BranchID = O.BranchID\n",
    "JOIN Products P ON P.ProductID = O.ProductID \n",
    "GROUP BY B.Branch, P.ProductLine\n",
    "\"\"\")\n",
    "\n",
    "conn4.close()"
   ]
  },
  {
   "cell_type": "code",
   "execution_count": 16,
   "metadata": {
    "id": "aZAzTF7Hlqbi",
    "ExecuteTime": {
     "end_time": "2024-10-16T23:55:15.442893100Z",
     "start_time": "2024-10-16T23:55:15.433858100Z"
    }
   },
   "outputs": [],
   "source": [
    "#4 Finds the total sales for each branch\n",
    "conn5 =sqlite3.connect(\"Data/db_tables.db\")\n",
    "c5 = conn5.cursor()\n",
    "\n",
    "c5.execute(\"\"\" SELECT B.Branch, SUM(O.Quantity) AS TotalSales\n",
    "FROM Orders O \n",
    "JOIN Branches B ON B.BranchID = O.BranchID \n",
    "GROUP BY B.Branch\n",
    "\"\"\")\n",
    "\n",
    "conn5.close()"
   ]
  },
  {
   "cell_type": "code",
   "execution_count": 17,
   "metadata": {
    "id": "FVBfDGVolqXG",
    "ExecuteTime": {
     "end_time": "2024-10-16T23:55:16.988363200Z",
     "start_time": "2024-10-16T23:55:16.970832600Z"
    }
   },
   "outputs": [],
   "source": [
    "#5 Determines the number of orders placed by each gender\n",
    "conn5 =sqlite3.connect(\"Data/db_tables.db\")\n",
    "c5 = conn5.cursor()\n",
    "\n",
    "c5.execute(\"\"\" SELECT O.Gender, SUM(O.Quantity) AS TotalOrder\n",
    "FROM Orders O  \n",
    "GROUP BY O.Gender\n",
    "\"\"\")\n",
    "\n",
    "conn5.close()"
   ]
  },
  {
   "cell_type": "code",
   "execution_count": 18,
   "metadata": {
    "id": "NqeB7IRalqRa",
    "ExecuteTime": {
     "end_time": "2024-10-16T23:55:17.710630900Z",
     "start_time": "2024-10-16T23:55:17.700768100Z"
    }
   },
   "outputs": [],
   "source": [
    "#6 Lists the product lines sold in each branch and the number of orders\n",
    "conn5 =sqlite3.connect(\"Data/db_tables.db\")\n",
    "c5 = conn5.cursor()\n",
    "\n",
    "c5.execute(\"\"\" SELECT B.Branch, P.ProductLine, SUM(O.Quantity) AS TotalOrder\n",
    "FROM Orders O\n",
    "JOIN Branches B ON B.BranchID = O.BranchID\n",
    "JOIN Products P ON P.ProductID = O.ProductID \n",
    "GROUP BY B.Branch, P.ProductLine\n",
    "\"\"\")\n",
    "\n",
    "conn5.close()"
   ]
  },
  {
   "cell_type": "code",
   "execution_count": 19,
   "metadata": {
    "id": "ECIox9ZylqKY",
    "ExecuteTime": {
     "end_time": "2024-10-16T23:55:18.525168800Z",
     "start_time": "2024-10-16T23:55:18.500261200Z"
    }
   },
   "outputs": [],
   "source": [
    "#7 Finds the highest quantity sold for a single order and the corresponding product line\n",
    "conn5 =sqlite3.connect(\"Data/db_tables.db\")\n",
    "c5 = conn5.cursor()\n",
    "\n",
    "c5.execute(\"\"\" SELECT P.ProductLine, MAX(O.Quantity) AS HighestQuantity\n",
    "FROM Orders O \n",
    "JOIN Products P ON P.ProductID = O.ProductID    \n",
    "\"\"\")\n",
    "\n",
    "conn5.close()\n"
   ]
  },
  {
   "cell_type": "code",
   "execution_count": 20,
   "metadata": {
    "id": "MUWbll4RluQg",
    "ExecuteTime": {
     "end_time": "2024-10-16T23:55:19.066506500Z",
     "start_time": "2024-10-16T23:55:19.055574800Z"
    }
   },
   "outputs": [],
   "source": [
    "#8 Checks for duplicated invoices\n",
    "conn5 =sqlite3.connect(\"Data/db_tables.db\")\n",
    "c5 = conn5.cursor()\n",
    "\n",
    "c5.execute(\"\"\" SELECT OrderID, COUNT(*) AS DuplicateCount\n",
    "FROM Orders O\n",
    "GROUP BY OrderID\n",
    "HAVING COUNT(*) > 1;  \n",
    "\"\"\")\n",
    "\n",
    "conn5.close()"
   ]
  },
  {
   "cell_type": "markdown",
   "metadata": {
    "id": "hlDZmDHMWBrk"
   },
   "source": [
    "# SUBMIT FORMAT\n",
    "\n",
    "* **<-zip>**\n",
    "  - **studentID_name_surname_hw1.ipynb**\n"
   ]
  },
  {
   "cell_type": "markdown",
   "metadata": {
    "id": "fTXBu8Dql0Iv"
   },
   "source": [
    "# PLAGIARISM\n",
    "\n",
    "All work on assignments must be done individually. You are encouraged to discuss the given assignments with your classmates, but these discussions should be carried out in an abstract way. That is, discussions related to a particular solution to a specific probem (either in actual code or in pseudocode) will not be tolerated. In short, turning in someone else’s work (including work available on the internet), in whole or in part, as your own will be considered as a violation of academic integrity. Please note that the former conditions also hold for the material attained using AI tools, including ChatGPT, GitHub Copilot, etc."
   ]
  },
  {
   "cell_type": "code",
   "execution_count": null,
   "outputs": [],
   "source": [],
   "metadata": {
    "collapsed": false
   }
  }
 ],
 "metadata": {
  "colab": {
   "provenance": []
  },
  "kernelspec": {
   "display_name": "Python 3 (ipykernel)",
   "language": "python",
   "name": "python3"
  },
  "language_info": {
   "codemirror_mode": {
    "name": "ipython",
    "version": 3
   },
   "file_extension": ".py",
   "mimetype": "text/x-python",
   "name": "python",
   "nbconvert_exporter": "python",
   "pygments_lexer": "ipython3",
   "version": "3.12.3"
  }
 },
 "nbformat": 4,
 "nbformat_minor": 4
}
